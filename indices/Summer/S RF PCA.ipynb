{
 "cells": [
  {
   "cell_type": "code",
   "execution_count": 1,
   "id": "8a79e85a-330b-4766-9a5f-ac52a2074bb5",
   "metadata": {},
   "outputs": [],
   "source": [
    "import pandas as pd\n",
    "\n",
    "df = pd.read_excel(\"PCA db.xlsx\", sheet_name=\"summer\")\n"
   ]
  },
  {
   "cell_type": "code",
   "execution_count": 3,
   "id": "f65d53ed-7f9f-4ad1-acb1-071068854c0f",
   "metadata": {
    "scrolled": true
   },
   "outputs": [
    {
     "name": "stdout",
     "output_type": "stream",
     "text": [
      "<class 'pandas.core.frame.DataFrame'>\n",
      "RangeIndex: 744 entries, 0 to 743\n",
      "Data columns (total 6 columns):\n",
      " #   Column   Non-Null Count  Dtype  \n",
      "---  ------   --------------  -----  \n",
      " 0   species  744 non-null    object \n",
      " 1   PSSRa    744 non-null    float64\n",
      " 2   PSSRb    744 non-null    float64\n",
      " 3   RARSc    744 non-null    float64\n",
      " 4   PSSRc    744 non-null    float64\n",
      " 5   CARI     744 non-null    float64\n",
      "dtypes: float64(5), object(1)\n",
      "memory usage: 35.0+ KB\n"
     ]
    },
    {
     "data": {
      "text/html": [
       "<div>\n",
       "<style scoped>\n",
       "    .dataframe tbody tr th:only-of-type {\n",
       "        vertical-align: middle;\n",
       "    }\n",
       "\n",
       "    .dataframe tbody tr th {\n",
       "        vertical-align: top;\n",
       "    }\n",
       "\n",
       "    .dataframe thead th {\n",
       "        text-align: right;\n",
       "    }\n",
       "</style>\n",
       "<table border=\"1\" class=\"dataframe\">\n",
       "  <thead>\n",
       "    <tr style=\"text-align: right;\">\n",
       "      <th></th>\n",
       "      <th>PSSRa</th>\n",
       "      <th>PSSRb</th>\n",
       "      <th>RARSc</th>\n",
       "      <th>PSSRc</th>\n",
       "      <th>CARI</th>\n",
       "    </tr>\n",
       "  </thead>\n",
       "  <tbody>\n",
       "    <tr>\n",
       "      <th>count</th>\n",
       "      <td>744.000000</td>\n",
       "      <td>744.000000</td>\n",
       "      <td>744.000000</td>\n",
       "      <td>744.000000</td>\n",
       "      <td>744.000000</td>\n",
       "    </tr>\n",
       "    <tr>\n",
       "      <th>mean</th>\n",
       "      <td>6.931892</td>\n",
       "      <td>6.150310</td>\n",
       "      <td>5.377358</td>\n",
       "      <td>5.383945</td>\n",
       "      <td>1.407607</td>\n",
       "    </tr>\n",
       "    <tr>\n",
       "      <th>std</th>\n",
       "      <td>2.753838</td>\n",
       "      <td>2.433866</td>\n",
       "      <td>2.057148</td>\n",
       "      <td>2.055339</td>\n",
       "      <td>0.654347</td>\n",
       "    </tr>\n",
       "    <tr>\n",
       "      <th>min</th>\n",
       "      <td>2.379702</td>\n",
       "      <td>2.342322</td>\n",
       "      <td>1.934046</td>\n",
       "      <td>1.913839</td>\n",
       "      <td>0.352701</td>\n",
       "    </tr>\n",
       "    <tr>\n",
       "      <th>25%</th>\n",
       "      <td>5.118320</td>\n",
       "      <td>4.457897</td>\n",
       "      <td>3.972182</td>\n",
       "      <td>3.977449</td>\n",
       "      <td>0.957658</td>\n",
       "    </tr>\n",
       "    <tr>\n",
       "      <th>50%</th>\n",
       "      <td>6.140668</td>\n",
       "      <td>5.538846</td>\n",
       "      <td>4.870609</td>\n",
       "      <td>4.900425</td>\n",
       "      <td>1.217905</td>\n",
       "    </tr>\n",
       "    <tr>\n",
       "      <th>75%</th>\n",
       "      <td>7.936846</td>\n",
       "      <td>7.143334</td>\n",
       "      <td>6.277664</td>\n",
       "      <td>6.297254</td>\n",
       "      <td>1.772151</td>\n",
       "    </tr>\n",
       "    <tr>\n",
       "      <th>max</th>\n",
       "      <td>15.674217</td>\n",
       "      <td>15.186808</td>\n",
       "      <td>12.468778</td>\n",
       "      <td>12.375205</td>\n",
       "      <td>3.813228</td>\n",
       "    </tr>\n",
       "  </tbody>\n",
       "</table>\n",
       "</div>"
      ],
      "text/plain": [
       "            PSSRa       PSSRb       RARSc       PSSRc        CARI\n",
       "count  744.000000  744.000000  744.000000  744.000000  744.000000\n",
       "mean     6.931892    6.150310    5.377358    5.383945    1.407607\n",
       "std      2.753838    2.433866    2.057148    2.055339    0.654347\n",
       "min      2.379702    2.342322    1.934046    1.913839    0.352701\n",
       "25%      5.118320    4.457897    3.972182    3.977449    0.957658\n",
       "50%      6.140668    5.538846    4.870609    4.900425    1.217905\n",
       "75%      7.936846    7.143334    6.277664    6.297254    1.772151\n",
       "max     15.674217   15.186808   12.468778   12.375205    3.813228"
      ]
     },
     "execution_count": 3,
     "metadata": {},
     "output_type": "execute_result"
    }
   ],
   "source": [
    "df.head()       # Shows the first five rows\n",
    "df.info()       # Gives an overview of columns, data types, and non-null counts\n",
    "df.describe()   # Provides summary statistics for numeric columns\n"
   ]
  },
  {
   "cell_type": "markdown",
   "id": "06354de9-f65e-4950-bba1-760d3bc617d5",
   "metadata": {},
   "source": [
    "Free attempt - 5 indices - straightforward"
   ]
  },
  {
   "cell_type": "code",
   "execution_count": 6,
   "id": "8a1a9808-a592-48b4-b550-eb0d7b627ce4",
   "metadata": {
    "scrolled": true
   },
   "outputs": [
    {
     "name": "stdout",
     "output_type": "stream",
     "text": [
      "Accuracy: 0.6845637583892618\n"
     ]
    },
    {
     "data": {
      "image/png": "[encoded data removed]",
      "text/plain": [
       "<Figure size 600x400 with 2 Axes>"
      ]
     },
     "metadata": {},
     "output_type": "display_data"
    },
    {
     "data": {
      "image/png": "[encoded data removed]",
      "text/plain": [
       "<Figure size 1000x600 with 1 Axes>"
      ]
     },
     "metadata": {},
     "output_type": "display_data"
    },
    {
     "data": {
      "text/html": [
       "<div>\n",
       "<style scoped>\n",
       "    .dataframe tbody tr th:only-of-type {\n",
       "        vertical-align: middle;\n",
       "    }\n",
       "\n",
       "    .dataframe tbody tr th {\n",
       "        vertical-align: top;\n",
       "    }\n",
       "\n",
       "    .dataframe thead th {\n",
       "        text-align: right;\n",
       "    }\n",
       "</style>\n",
       "<table border=\"1\" class=\"dataframe\">\n",
       "  <thead>\n",
       "    <tr style=\"text-align: right;\">\n",
       "      <th></th>\n",
       "      <th>CHEAL</th>\n",
       "      <th>CYPES</th>\n",
       "      <th>ECHCG</th>\n",
       "      <th>GASCI</th>\n",
       "      <th>Maize</th>\n",
       "      <th>Morello</th>\n",
       "      <th>Pignoletto</th>\n",
       "      <th>SORHA</th>\n",
       "    </tr>\n",
       "  </thead>\n",
       "  <tbody>\n",
       "    <tr>\n",
       "      <th>CHEAL</th>\n",
       "      <td>100.000000</td>\n",
       "      <td>0.000000</td>\n",
       "      <td>0.000000</td>\n",
       "      <td>0.000000</td>\n",
       "      <td>0.000000</td>\n",
       "      <td>0.000000</td>\n",
       "      <td>0.000000</td>\n",
       "      <td>0.000000</td>\n",
       "    </tr>\n",
       "    <tr>\n",
       "      <th>CYPES</th>\n",
       "      <td>0.000000</td>\n",
       "      <td>68.421053</td>\n",
       "      <td>26.315789</td>\n",
       "      <td>0.000000</td>\n",
       "      <td>0.000000</td>\n",
       "      <td>0.000000</td>\n",
       "      <td>0.000000</td>\n",
       "      <td>5.263158</td>\n",
       "    </tr>\n",
       "    <tr>\n",
       "      <th>ECHCG</th>\n",
       "      <td>0.000000</td>\n",
       "      <td>4.761905</td>\n",
       "      <td>71.428571</td>\n",
       "      <td>4.761905</td>\n",
       "      <td>0.000000</td>\n",
       "      <td>0.000000</td>\n",
       "      <td>4.761905</td>\n",
       "      <td>14.285714</td>\n",
       "    </tr>\n",
       "    <tr>\n",
       "      <th>GASCI</th>\n",
       "      <td>5.882353</td>\n",
       "      <td>5.882353</td>\n",
       "      <td>5.882353</td>\n",
       "      <td>82.352941</td>\n",
       "      <td>0.000000</td>\n",
       "      <td>0.000000</td>\n",
       "      <td>0.000000</td>\n",
       "      <td>0.000000</td>\n",
       "    </tr>\n",
       "    <tr>\n",
       "      <th>Maize</th>\n",
       "      <td>5.000000</td>\n",
       "      <td>0.000000</td>\n",
       "      <td>15.000000</td>\n",
       "      <td>5.000000</td>\n",
       "      <td>40.000000</td>\n",
       "      <td>10.000000</td>\n",
       "      <td>0.000000</td>\n",
       "      <td>25.000000</td>\n",
       "    </tr>\n",
       "    <tr>\n",
       "      <th>Morello</th>\n",
       "      <td>0.000000</td>\n",
       "      <td>0.000000</td>\n",
       "      <td>14.285714</td>\n",
       "      <td>0.000000</td>\n",
       "      <td>28.571429</td>\n",
       "      <td>14.285714</td>\n",
       "      <td>14.285714</td>\n",
       "      <td>28.571429</td>\n",
       "    </tr>\n",
       "    <tr>\n",
       "      <th>Pignoletto</th>\n",
       "      <td>0.000000</td>\n",
       "      <td>0.000000</td>\n",
       "      <td>11.111111</td>\n",
       "      <td>0.000000</td>\n",
       "      <td>55.555556</td>\n",
       "      <td>0.000000</td>\n",
       "      <td>22.222222</td>\n",
       "      <td>11.111111</td>\n",
       "    </tr>\n",
       "    <tr>\n",
       "      <th>SORHA</th>\n",
       "      <td>0.000000</td>\n",
       "      <td>0.000000</td>\n",
       "      <td>0.000000</td>\n",
       "      <td>0.000000</td>\n",
       "      <td>24.137931</td>\n",
       "      <td>0.000000</td>\n",
       "      <td>0.000000</td>\n",
       "      <td>75.862069</td>\n",
       "    </tr>\n",
       "  </tbody>\n",
       "</table>\n",
       "</div>"
      ],
      "text/plain": [
       "                 CHEAL      CYPES      ECHCG      GASCI      Maize    Morello  \\\n",
       "CHEAL       100.000000   0.000000   0.000000   0.000000   0.000000   0.000000   \n",
       "CYPES         0.000000  68.421053  26.315789   0.000000   0.000000   0.000000   \n",
       "ECHCG         0.000000   4.761905  71.428571   4.761905   0.000000   0.000000   \n",
       "GASCI         5.882353   5.882353   5.882353  82.352941   0.000000   0.000000   \n",
       "Maize         5.000000   0.000000  15.000000   5.000000  40.000000  10.000000   \n",
       "Morello       0.000000   0.000000  14.285714   0.000000  28.571429  14.285714   \n",
       "Pignoletto    0.000000   0.000000  11.111111   0.000000  55.555556   0.000000   \n",
       "SORHA         0.000000   0.000000   0.000000   0.000000  24.137931   0.000000   \n",
       "\n",
       "            Pignoletto      SORHA  \n",
       "CHEAL         0.000000   0.000000  \n",
       "CYPES         0.000000   5.263158  \n",
       "ECHCG         4.761905  14.285714  \n",
       "GASCI         0.000000   0.000000  \n",
       "Maize         0.000000  25.000000  \n",
       "Morello      14.285714  28.571429  \n",
       "Pignoletto   22.222222  11.111111  \n",
       "SORHA         0.000000  75.862069  "
      ]
     },
     "execution_count": 6,
     "metadata": {},
     "output_type": "execute_result"
    }
   ],
   "source": [
    "from sklearn.model_selection import train_test_split\n",
    "from sklearn.ensemble import RandomForestClassifier\n",
    "\n",
    "# Assuming 'df' is your DataFrame and 'target' is the name of your target column:\n",
    "X = df.drop(\"species\", axis=1)  # Features\n",
    "y = df[\"species\"]               # Target\n",
    "\n",
    "# Split into training and test sets\n",
    "X_train, X_test, y_train, y_test = train_test_split(X, y, test_size=0.2, random_state=42, stratify= y)\n",
    "\n",
    "# Initialize and train the random forest\n",
    "rf = RandomForestClassifier(n_estimators=100, random_state=42)\n",
    "rf.fit(X_train, y_train)\n",
    "\n",
    "# Evaluate the model\n",
    "accuracy = rf.score(X_test, y_test)\n",
    "print(\"Accuracy:\", accuracy)\n",
    "\n",
    "from sklearn.metrics import confusion_matrix\n",
    "import seaborn as sns\n",
    "import matplotlib.pyplot as plt\n",
    "\n",
    "y_pred = rf.predict(X_test)\n",
    "cm = confusion_matrix(y_test, y_pred)\n",
    "\n",
    "plt.figure(figsize=(6,4))\n",
    "sns.heatmap(cm, annot=True, fmt='d', cmap='Blues')\n",
    "plt.xlabel('Predicted Label')\n",
    "plt.ylabel('True Label')\n",
    "plt.title('Confusion Matrix')\n",
    "plt.show()\n",
    "\n",
    "import pandas as pd\n",
    "import numpy as np\n",
    "from sklearn.metrics import confusion_matrix\n",
    "\n",
    "y_pred = rf.predict(X_test)\n",
    "cm = confusion_matrix(y_test, y_pred)\n",
    "cm_percentage = cm.astype('float') / cm.sum(axis=1)[:, np.newaxis] * 100\n",
    "\n",
    "class_labels = np.unique(y_test)  # Adjust if needed\n",
    "cm_df = pd.DataFrame(cm_percentage, index=class_labels, columns=class_labels)\n",
    "cm_df\n",
    "\n",
    "importances = rf.feature_importances_\n",
    "feature_names = X.columns\n",
    "feature_importance_df = pd.DataFrame({\n",
    "    'Feature': feature_names,\n",
    "    'Importance': importances\n",
    "}).sort_values(by='Importance', ascending=False)\n",
    "plt.figure(figsize=(10, 6))\n",
    "plt.barh(feature_importance_df['Feature'], feature_importance_df['Importance'], color='skyblue')\n",
    "plt.xlabel('Variable Importance')\n",
    "plt.ylabel('Features')\n",
    "plt.title('Feature Importances from Random Forest')\n",
    "plt.gca().invert_yaxis()  # Invert y-axis for better visualization\n",
    "plt.show()\n",
    "\n",
    "cm_df"
   ]
  },
  {
   "cell_type": "code",
   "execution_count": 7,
   "id": "8882d26f-b940-470f-a615-d201928568f3",
   "metadata": {},
   "outputs": [
    {
     "name": "stdout",
     "output_type": "stream",
     "text": [
      "Final Species-Level Accuracy: 0.9798657718120806\n"
     ]
    },
    {
     "data": {
      "text/html": [
       "<div>\n",
       "<style scoped>\n",
       "    .dataframe tbody tr th:only-of-type {\n",
       "        vertical-align: middle;\n",
       "    }\n",
       "\n",
       "    .dataframe tbody tr th {\n",
       "        vertical-align: top;\n",
       "    }\n",
       "\n",
       "    .dataframe thead th {\n",
       "        text-align: right;\n",
       "    }\n",
       "</style>\n",
       "<table border=\"1\" class=\"dataframe\">\n",
       "  <thead>\n",
       "    <tr style=\"text-align: right;\">\n",
       "      <th></th>\n",
       "      <th>CHEAL</th>\n",
       "      <th>CYPES</th>\n",
       "      <th>ECHCG</th>\n",
       "      <th>GASCI</th>\n",
       "      <th>Maize</th>\n",
       "      <th>Morello</th>\n",
       "      <th>Pignoletto</th>\n",
       "      <th>SORHA</th>\n",
       "    </tr>\n",
       "  </thead>\n",
       "  <tbody>\n",
       "    <tr>\n",
       "      <th>CHEAL</th>\n",
       "      <td>100.0</td>\n",
       "      <td>0.0</td>\n",
       "      <td>0.00000</td>\n",
       "      <td>0.0</td>\n",
       "      <td>0.000000</td>\n",
       "      <td>0.000000</td>\n",
       "      <td>0.000000</td>\n",
       "      <td>0.000000</td>\n",
       "    </tr>\n",
       "    <tr>\n",
       "      <th>CYPES</th>\n",
       "      <td>0.0</td>\n",
       "      <td>100.0</td>\n",
       "      <td>0.00000</td>\n",
       "      <td>0.0</td>\n",
       "      <td>0.000000</td>\n",
       "      <td>0.000000</td>\n",
       "      <td>0.000000</td>\n",
       "      <td>0.000000</td>\n",
       "    </tr>\n",
       "    <tr>\n",
       "      <th>ECHCG</th>\n",
       "      <td>0.0</td>\n",
       "      <td>0.0</td>\n",
       "      <td>90.47619</td>\n",
       "      <td>0.0</td>\n",
       "      <td>4.761905</td>\n",
       "      <td>4.761905</td>\n",
       "      <td>0.000000</td>\n",
       "      <td>0.000000</td>\n",
       "    </tr>\n",
       "    <tr>\n",
       "      <th>GASCI</th>\n",
       "      <td>0.0</td>\n",
       "      <td>0.0</td>\n",
       "      <td>0.00000</td>\n",
       "      <td>100.0</td>\n",
       "      <td>0.000000</td>\n",
       "      <td>0.000000</td>\n",
       "      <td>0.000000</td>\n",
       "      <td>0.000000</td>\n",
       "    </tr>\n",
       "    <tr>\n",
       "      <th>Maize</th>\n",
       "      <td>0.0</td>\n",
       "      <td>0.0</td>\n",
       "      <td>0.00000</td>\n",
       "      <td>0.0</td>\n",
       "      <td>100.000000</td>\n",
       "      <td>0.000000</td>\n",
       "      <td>0.000000</td>\n",
       "      <td>0.000000</td>\n",
       "    </tr>\n",
       "    <tr>\n",
       "      <th>Morello</th>\n",
       "      <td>0.0</td>\n",
       "      <td>0.0</td>\n",
       "      <td>0.00000</td>\n",
       "      <td>0.0</td>\n",
       "      <td>0.000000</td>\n",
       "      <td>100.000000</td>\n",
       "      <td>0.000000</td>\n",
       "      <td>0.000000</td>\n",
       "    </tr>\n",
       "    <tr>\n",
       "      <th>Pignoletto</th>\n",
       "      <td>0.0</td>\n",
       "      <td>0.0</td>\n",
       "      <td>0.00000</td>\n",
       "      <td>0.0</td>\n",
       "      <td>0.000000</td>\n",
       "      <td>0.000000</td>\n",
       "      <td>92.857143</td>\n",
       "      <td>7.142857</td>\n",
       "    </tr>\n",
       "    <tr>\n",
       "      <th>SORHA</th>\n",
       "      <td>0.0</td>\n",
       "      <td>0.0</td>\n",
       "      <td>0.00000</td>\n",
       "      <td>0.0</td>\n",
       "      <td>0.000000</td>\n",
       "      <td>0.000000</td>\n",
       "      <td>0.000000</td>\n",
       "      <td>100.000000</td>\n",
       "    </tr>\n",
       "  </tbody>\n",
       "</table>\n",
       "</div>"
      ],
      "text/plain": [
       "            CHEAL  CYPES     ECHCG  GASCI       Maize     Morello  Pignoletto  \\\n",
       "CHEAL       100.0    0.0   0.00000    0.0    0.000000    0.000000    0.000000   \n",
       "CYPES         0.0  100.0   0.00000    0.0    0.000000    0.000000    0.000000   \n",
       "ECHCG         0.0    0.0  90.47619    0.0    4.761905    4.761905    0.000000   \n",
       "GASCI         0.0    0.0   0.00000  100.0    0.000000    0.000000    0.000000   \n",
       "Maize         0.0    0.0   0.00000    0.0  100.000000    0.000000    0.000000   \n",
       "Morello       0.0    0.0   0.00000    0.0    0.000000  100.000000    0.000000   \n",
       "Pignoletto    0.0    0.0   0.00000    0.0    0.000000    0.000000   92.857143   \n",
       "SORHA         0.0    0.0   0.00000    0.0    0.000000    0.000000    0.000000   \n",
       "\n",
       "                 SORHA  \n",
       "CHEAL         0.000000  \n",
       "CYPES         0.000000  \n",
       "ECHCG         0.000000  \n",
       "GASCI         0.000000  \n",
       "Maize         0.000000  \n",
       "Morello       0.000000  \n",
       "Pignoletto    7.142857  \n",
       "SORHA       100.000000  "
      ]
     },
     "execution_count": 7,
     "metadata": {},
     "output_type": "execute_result"
    }
   ],
   "source": [
    "import pandas as pd\n",
    "import numpy as np\n",
    "from sklearn.ensemble import RandomForestClassifier\n",
    "from sklearn.model_selection import train_test_split\n",
    "from sklearn.metrics import accuracy_score\n",
    "\n",
    "# Example lists of species for each category\n",
    "monocot_species = [\"CYPES\",\"ECHCG\",\"Maize\",\"SORHA\",\"Pignoletto\",\"Morello\"]  # example species\n",
    "dicot_species   = [\"CHEAL\",\"GASCI\"]\n",
    "weed_species    = [\"CYPES\",\"ECHCG\",\"SORHA\",\"CHEAL\",\"GASCI\"]  # example of some species labeled as weeds\n",
    "crop_species    = [\"Maize\",\"Pignoletto\",\"Morello\"]\n",
    "\n",
    "# Third-level species groups (adjust these depending on your actual data):\n",
    "monocot_weed_species = [\"CYPES\",\"ECHCG\",\"SORHA\"]\n",
    "monocot_crop_species = [ \"Maize\",\"Pignoletto\",\"Morello\"]\n",
    "dicot_weed_species   = [\"CHEAL\",\"GASCI\"]\n",
    "\n",
    "\n",
    "# Assume df is your main dataframe with features and species\n",
    "# Example:\n",
    "# df = pd.read_csv(\"your_data.csv\")\n",
    "\n",
    "# Create first-level category\n",
    "df['category1'] = df['species'].apply(lambda s: 'monocot' if s in monocot_species else 'dicot')\n",
    "# Create second-level category\n",
    "df['category2'] = df['species'].apply(lambda s: 'weed' if s in weed_species else 'crop')\n",
    "\n",
    "# Features and target\n",
    "X = df[[\"PSSRa\", \"PSSRb\", \"RARSc\", \"PSSRc\", \"CARI\"]]\n",
    "y_cat1 = df[\"category1\"]  # Level 1 target\n",
    "\n",
    "# Level 1: Monocot vs Dicot\n",
    "X_train_cat1, X_test_cat1, y_train_cat1, y_test_cat1 = train_test_split(X, y_cat1, test_size=0.2, random_state=42, stratify=y_cat1)\n",
    "clf_cat1 = RandomForestClassifier(random_state=42)\n",
    "clf_cat1.fit(X_train_cat1, y_train_cat1)\n",
    "\n",
    "y_pred_cat1 = clf_cat1.predict(X_test_cat1)\n",
    "\n",
    "# Split test data by predicted category1\n",
    "X_test_monocot = X_test_cat1[y_pred_cat1 == 'monocot']\n",
    "X_test_dicot   = X_test_cat1[y_pred_cat1 == 'dicot']\n",
    "\n",
    "y_test_monocot = df.loc[X_test_monocot.index, 'category2']\n",
    "y_test_dicot   = df.loc[X_test_dicot.index, 'category2']\n",
    "\n",
    "# Level 2: Weed vs Crop (for monocot)\n",
    "monocot_mask = df['category1'] == 'monocot'\n",
    "X_monocot = X[monocot_mask]\n",
    "y_monocot = df['category2'][monocot_mask]\n",
    "\n",
    "X_train_mono, X_val_mono, y_train_mono, y_val_mono = train_test_split(X_monocot, y_monocot, test_size=0.2, random_state=42, stratify=y_monocot)\n",
    "clf_cat2_monocot = RandomForestClassifier(random_state=42)\n",
    "clf_cat2_monocot.fit(X_train_mono, y_train_mono)\n",
    "\n",
    "y_pred_cat2_monocot = clf_cat2_monocot.predict(X_test_monocot)\n",
    "\n",
    "# Level 2: Weed vs Crop (for dicot)\n",
    "dicot_mask = df['category1'] == 'dicot'\n",
    "X_dicot = X[dicot_mask]\n",
    "y_dicot = df['category2'][dicot_mask]\n",
    "\n",
    "X_train_di, X_val_di, y_train_di, y_val_di = train_test_split(X_dicot, y_dicot, test_size=0.2, random_state=42, stratify=y_dicot)\n",
    "clf_cat2_dicot = RandomForestClassifier(random_state=42)\n",
    "clf_cat2_dicot.fit(X_train_di, y_train_di)\n",
    "\n",
    "y_pred_cat2_dicot = clf_cat2_dicot.predict(X_test_dicot)\n",
    "\n",
    "# Now we have predictions for category1 and category2. Next: species level.\n",
    "\n",
    "# For the third level, we train separate models for each final group:\n",
    "# Monocot-Weed, Monocot-Crop, Dicot-Weed, Dicot-Crop.\n",
    "\n",
    "# Example: Monocot-Weed model (if multiple species in that group)\n",
    "mono_weed_mask = (df['category1'] == 'monocot') & (df['category2'] == 'weed')\n",
    "X_mono_weed = X[mono_weed_mask]\n",
    "y_mono_weed = df['species'][mono_weed_mask]\n",
    "\n",
    "clf_mono_weed = RandomForestClassifier(random_state=42)\n",
    "clf_mono_weed.fit(X_mono_weed, y_mono_weed)\n",
    "\n",
    "# Monocot-Crop model\n",
    "mono_crop_mask = (df['category1'] == 'monocot') & (df['category2'] == 'crop')\n",
    "X_mono_crop = X[mono_crop_mask]\n",
    "y_mono_crop = df['species'][mono_crop_mask]\n",
    "\n",
    "clf_mono_crop = RandomForestClassifier(random_state=42)\n",
    "clf_mono_crop.fit(X_mono_crop, y_mono_crop)\n",
    "\n",
    "# Dicot-Weed model\n",
    "dicot_weed_mask = (df['category1'] == 'dicot') & (df['category2'] == 'weed')\n",
    "X_dicot_weed = X[dicot_weed_mask]\n",
    "y_dicot_weed = df['species'][dicot_weed_mask]\n",
    "\n",
    "clf_dicot_weed = RandomForestClassifier(random_state=42)\n",
    "clf_dicot_weed.fit(X_dicot_weed, y_dicot_weed)\n",
    "\n",
    "\n",
    "\n",
    "# Predict species level on the test set:\n",
    "# For each test sample, use the predicted category1 and category2 to decide which classifier to use at level 3.\n",
    "\n",
    "final_species_preds = []\n",
    "\n",
    "for idx in X_test_cat1.index:\n",
    "    cat1_pred = clf_cat1.predict(X_test_cat1.loc[[idx]])[0]\n",
    "    if cat1_pred == 'monocot':\n",
    "        cat2_pred = clf_cat2_monocot.predict(X_test_cat1.loc[[idx]])[0]  # use monocot model for cat2\n",
    "        if cat2_pred == 'weed':\n",
    "            sp_pred = clf_mono_weed.predict(X_test_cat1.loc[[idx]])[0]\n",
    "        else:  # crop\n",
    "            sp_pred = clf_mono_crop.predict(X_test_cat1.loc[[idx]])[0]\n",
    "    else:  # dicot\n",
    "        cat2_pred = clf_cat2_dicot.predict(X_test_cat1.loc[[idx]])[0]  # use dicot model for cat2\n",
    "        if cat2_pred == 'weed':\n",
    "            sp_pred = clf_dicot_weed.predict(X_test_cat1.loc[[idx]])[0]\n",
    "        else:  # crop\n",
    "            sp_pred = clf_dicot_crop.predict(X_test_cat1.loc[[idx]])[0]\n",
    "\n",
    "    final_species_preds.append(sp_pred)\n",
    "\n",
    "final_species_preds = np.array(final_species_preds)\n",
    "y_test_species = df.loc[X_test_cat1.index, 'species']\n",
    "\n",
    "# Evaluate accuracy of final species predictions:\n",
    "final_accuracy = accuracy_score(y_test_species, final_species_preds)\n",
    "print(\"Final Species-Level Accuracy:\", final_accuracy)\n",
    "\n",
    "from sklearn.metrics import confusion_matrix, classification_report\n",
    "cm = confusion_matrix(y_test_species,final_species_preds)\n",
    "cm_percentage = cm.astype('float') / cm.sum(axis=1)[:, np.newaxis] * 100\n",
    "\n",
    "class_labels = np.unique(y_test_species)  # Adjust if needed\n",
    "cm_df = pd.DataFrame(cm_percentage, index=class_labels, columns=class_labels)\n",
    "cm_df\n",
    "\n"
   ]
  },
  {
   "cell_type": "code",
   "execution_count": 7,
   "id": "a6d6cbe8-b661-4560-9b70-49c71e35b2e8",
   "metadata": {
    "execution": {
     "iopub.execute_input": "2025-03-11T14:00:49.018689Z",
     "iopub.status.busy": "2025-03-11T14:00:49.018466Z",
     "iopub.status.idle": "2025-03-11T14:01:01.685551Z",
     "shell.execute_reply": "2025-03-11T14:01:01.684582Z",
     "shell.execute_reply.started": "2025-03-11T14:00:49.018672Z"
    },
    "scrolled": true
   },
   "outputs": [
    {
     "data": {
      "image/png": "[encoded data removed]",
      "text/plain": [
       "<Figure size 800x600 with 1 Axes>"
      ]
     },
     "metadata": {},
     "output_type": "display_data"
    }
   ],
   "source": [
    "import numpy as np\n",
    "import matplotlib.pyplot as plt\n",
    "from sklearn.model_selection import learning_curve\n",
    "\n",
    "# Assuming rf, X, and y are defined as in your code\n",
    "# Use cross-validation (e.g., 5-fold)\n",
    "train_sizes, train_scores, validation_scores = learning_curve(\n",
    "    rf, X, y, cv=5, scoring='accuracy', n_jobs=-1, \n",
    "    train_sizes=np.linspace(0.1, 1.0, 10)\n",
    ")\n",
    "\n",
    "# Compute the mean accuracy scores for training and validation sets across folds\n",
    "train_scores_mean = np.mean(train_scores, axis=1)\n",
    "validation_scores_mean = np.mean(validation_scores, axis=1)\n",
    "\n",
    "# Plot the learning curve\n",
    "plt.figure(figsize=(8, 6))\n",
    "plt.plot(train_sizes, train_scores_mean, 'o-', label='Training Accuracy')\n",
    "plt.plot(train_sizes, validation_scores_mean, 'o-', label='Cross-Validation Accuracy')\n",
    "plt.xlabel('Training Set Size')\n",
    "plt.ylabel('Accuracy')\n",
    "plt.title('Learning Curve for RandomForestClassifier')\n",
    "plt.legend(loc='best')\n",
    "plt.show()\n"
   ]
  },
  {
   "cell_type": "markdown",
   "id": "65891a5e-efe4-4c2c-ba6f-e1bdcc4372d5",
   "metadata": {},
   "source": [
    "Is grid search even necessary if the result is no good?"
   ]
  },
  {
   "cell_type": "markdown",
   "id": "92b7a075-f4a6-4ab2-895d-83dff70bd60a",
   "metadata": {},
   "source": [
    "Define the terms for 3 step classification"
   ]
  },
  {
   "cell_type": "code",
   "execution_count": 10,
   "id": "a4997cdc-cec3-41e5-8e49-8f2c29c24905",
   "metadata": {},
   "outputs": [
    {
     "name": "stdout",
     "output_type": "stream",
     "text": [
      "category1  category2\n",
      "monocot    weed         343\n",
      "dicot      weed         219\n",
      "monocot    crop         182\n",
      "Name: count, dtype: int64\n"
     ]
    }
   ],
   "source": [
    "import pandas as pd\n",
    "import numpy as np\n",
    "from sklearn.ensemble import RandomForestClassifier\n",
    "from sklearn.model_selection import train_test_split\n",
    "from sklearn.metrics import accuracy_score\n",
    "\n",
    "# Example lists of species for each category\n",
    "monocot_species = [\"CYPES\",\"ECHCG\",\"Maize\",\"SORHA\",\"Pignoletto\",\"Morello\"]  # example species\n",
    "dicot_species   = [\"CHEAL\",\"GASCI\"]\n",
    "weed_species    = [\"CYPES\",\"ECHCG\",\"SORHA\",\"CHEAL\",\"GASCI\"]  # example of some species labeled as weeds\n",
    "crop_species    = [\"Maize\",\"Pignoletto\",\"Morello\"]\n",
    "\n",
    "# Third-level species groups (adjust these depending on your actual data):\n",
    "monocot_weed_species = [\"CYPES\",\"ECHCG\",\"SORHA\"]\n",
    "monocot_crop_species = [ \"Maize\",\"Pignoletto\",\"Morello\"]\n",
    "dicot_weed_species   = [\"CHEAL\",\"GASCI\"]\n",
    "\n",
    "# Assume df is your main dataframe with features and species\n",
    "# Example:\n",
    "# df = pd.read_csv(\"your_data.csv\")\n",
    "\n",
    "# Create first-level category\n",
    "df['category1'] = df['species'].apply(lambda s: 'monocot' if s in monocot_species else 'dicot')\n",
    "# Create second-level category\n",
    "df['category2'] = df['species'].apply(lambda s: 'weed' if s in weed_species else 'crop')\n",
    "\n",
    "print(df[['category1', 'category2']].value_counts())"
   ]
  },
  {
   "cell_type": "markdown",
   "id": "6f9bd3e1-703c-4ea2-994b-e4f444c16dd4",
   "metadata": {},
   "source": [
    "Level 1: Monocot vs Dicot "
   ]
  },
  {
   "cell_type": "code",
   "execution_count": 12,
   "id": "84307758-d906-420e-b2ff-a24a43d3f16c",
   "metadata": {},
   "outputs": [],
   "source": [
    "# Features and target\n",
    "X = df[[\"PSSRa\", \"PSSRb\", \"RARSc\", \"PSSRc\", \"CARI\"]]\n",
    "y_cat1 = df[\"category1\"]  # Level 1 target\n",
    "# Level 1: Monocot vs Dicot\n",
    "X_train_cat1, X_test_cat1, y_train_cat1, y_test_cat1 = train_test_split(X, y_cat1, test_size=0.2, random_state=42, stratify=y_cat1)\n",
    "clf_cat1 = RandomForestClassifier(random_state=42)\n",
    "clf_cat1.fit(X_train_cat1, y_train_cat1)\n",
    "\n",
    "y_pred_cat1 = clf_cat1.predict(X_test_cat1)\n"
   ]
  },
  {
   "cell_type": "code",
   "execution_count": 14,
   "id": "be530f68-bf09-4e50-a34f-7005f49ef43b",
   "metadata": {},
   "outputs": [
    {
     "data": {
      "image/png": "[encoded data removed]",
      "text/plain": [
       "<Figure size 800x600 with 1 Axes>"
      ]
     },
     "metadata": {},
     "output_type": "display_data"
    }
   ],
   "source": [
    "import numpy as np\n",
    "import matplotlib.pyplot as plt\n",
    "from sklearn.model_selection import learning_curve\n",
    "\n",
    "# Assuming rf, X, and y are defined as in your code\n",
    "# Use cross-validation (e.g., 5-fold)\n",
    "train_sizes, train_scores, validation_scores = learning_curve(\n",
    "    clf_cat1, X, y_cat1, cv=5, scoring='accuracy', n_jobs=-1, \n",
    "    train_sizes=np.linspace(0.1, 1.0, 10)\n",
    ")\n",
    "\n",
    "# Compute the mean accuracy scores for training and validation sets across folds\n",
    "train_scores_mean = np.mean(train_scores, axis=1)\n",
    "validation_scores_mean = np.mean(validation_scores, axis=1)\n",
    "\n",
    "# Plot the learning curve\n",
    "plt.figure(figsize=(8, 6))\n",
    "plt.plot(train_sizes, train_scores_mean, 'o-', label='Training Accuracy')\n",
    "plt.plot(train_sizes, validation_scores_mean, 'o-', label='Cross-Validation Accuracy')\n",
    "plt.xlabel('Training Set Size')\n",
    "plt.ylabel('Accuracy')\n",
    "plt.title('Learning Curve for RandomForestClassifier')\n",
    "plt.legend(loc='best')\n",
    "plt.show()"
   ]
  },
  {
   "cell_type": "code",
   "execution_count": 4,
   "id": "a170d2e1-76a3-4710-a7e3-668bc6b0f748",
   "metadata": {
    "execution": {
     "iopub.execute_input": "2025-03-11T14:03:15.114406Z",
     "iopub.status.busy": "2025-03-11T14:03:15.114014Z",
     "iopub.status.idle": "2025-03-11T14:06:42.171526Z",
     "shell.execute_reply": "2025-03-11T14:06:42.170671Z",
     "shell.execute_reply.started": "2025-03-11T14:03:15.114374Z"
    }
   },
   "outputs": [],
   "source": [
    "#gridsearch level 1\n",
    "from sklearn.metrics import confusion_matrix\n",
    "import seaborn as sns\n",
    "import matplotlib.pyplot as plt\n",
    "from sklearn.model_selection import GridSearchCV, StratifiedKFold\n",
    "from sklearn.ensemble import RandomForestClassifier\n",
    "# Define a stratified k-fold splitter\n",
    "skf = StratifiedKFold(n_splits=5, shuffle=True, random_state=42)\n",
    "\n",
    "#gridsearch\n",
    "from sklearn.model_selection import GridSearchCV\n",
    "# Define a dictionary with the hyperparameters you wish to tune:\n",
    "param_grid = {\n",
    "    'n_estimators': [100, 200, 500],\n",
    "    'max_depth': [None, 10, 20],\n",
    "    'min_samples_split': [2, 5, 10],\n",
    "    'min_samples_leaf': [1, 2, 4],\n",
    "    'bootstrap': [True, False]\n",
    "}\n",
    "grid_search = GridSearchCV(estimator=clf_cat1,param_grid=param_grid,cv=skf, scoring='accuracy', n_jobs=-1)\n",
    "grid_search.fit(X_train_cat1, y_train_cat1)\n",
    "# Option 1: Use the best estimator from GridSearchCV\n",
    "final_model = grid_search.best_estimator_\n",
    "\n",
    "# Now you can use final_model to predict on new data:\n",
    "predictions = final_model.predict(X_test_cat1)"
   ]
  },
  {
   "cell_type": "code",
   "execution_count": 5,
   "id": "cf444f40-0095-4841-9d85-d2eb9b9fc799",
   "metadata": {
    "execution": {
     "iopub.execute_input": "2025-03-11T14:07:03.656083Z",
     "iopub.status.busy": "2025-03-11T14:07:03.655546Z",
     "iopub.status.idle": "2025-03-11T14:07:03.665906Z",
     "shell.execute_reply": "2025-03-11T14:07:03.665210Z",
     "shell.execute_reply.started": "2025-03-11T14:07:03.656054Z"
    }
   },
   "outputs": [
    {
     "name": "stdout",
     "output_type": "stream",
     "text": [
      "Best Parameters: {'bootstrap': True, 'max_depth': None, 'min_samples_leaf': 1, 'min_samples_split': 2, 'n_estimators': 100}\n",
      "Best CV Score: 0.9647058823529411\n"
     ]
    }
   ],
   "source": [
    "# Print out the best parameters and the best cross-validation score\n",
    "print(\"Best Parameters:\", grid_search.best_params_)\n",
    "print(\"Best CV Score:\", grid_search.best_score_)"
   ]
  },
  {
   "cell_type": "code",
   "execution_count": 6,
   "id": "cf9dba4b-e06a-4117-a245-dbdec57faa78",
   "metadata": {
    "execution": {
     "iopub.execute_input": "2025-03-11T14:07:32.350504Z",
     "iopub.status.busy": "2025-03-11T14:07:32.350095Z",
     "iopub.status.idle": "2025-03-11T14:07:32.572314Z",
     "shell.execute_reply": "2025-03-11T14:07:32.571729Z",
     "shell.execute_reply.started": "2025-03-11T14:07:32.350483Z"
    }
   },
   "outputs": [
    {
     "name": "stdout",
     "output_type": "stream",
     "text": [
      "              precision    recall  f1-score   support\n",
      "\n",
      "       dicot       1.00      1.00      1.00        44\n",
      "     monocot       1.00      1.00      1.00       105\n",
      "\n",
      "    accuracy                           1.00       149\n",
      "   macro avg       1.00      1.00      1.00       149\n",
      "weighted avg       1.00      1.00      1.00       149\n",
      "\n"
     ]
    }
   ],
   "source": [
    "from sklearn.metrics import classification_report\n",
    "clf_cat1 = RandomForestClassifier(random_state=42, \n",
    "                                  max_depth=None,\n",
    "                                  min_samples_leaf=1,\n",
    "                                  min_samples_split=2,\n",
    "                                  n_estimators=100,bootstrap=True)\n",
    "clf_cat1.fit(X_train_cat1, y_train_cat1)\n",
    "\n",
    "y_pred_cat1 = clf_cat1.predict(X_test_cat1)\n",
    "# Generate and print the classification report\n",
    "report = classification_report(y_test_cat1, y_pred_cat1)\n",
    "print(report)"
   ]
  },
  {
   "cell_type": "code",
   "execution_count": 88,
   "id": "8ac9b8b5-48af-4cfa-a0e5-dc3ca34063f3",
   "metadata": {
    "collapsed": true,
    "jupyter": {
     "outputs_hidden": true,
     "source_hidden": true
    }
   },
   "outputs": [
    {
     "data": {
      "image/png": "[encoded data removed]",
      "text/plain": [
       "<Figure size 800x600 with 1 Axes>"
      ]
     },
     "metadata": {},
     "output_type": "display_data"
    }
   ],
   "source": [
    "import numpy as np\n",
    "import matplotlib.pyplot as plt\n",
    "from sklearn.model_selection import learning_curve\n",
    "\n",
    "# Assuming rf, X, and y are defined as in your code\n",
    "# Use cross-validation (e.g., 5-fold)\n",
    "train_sizes, train_scores, validation_scores = learning_curve(\n",
    "    clf_cat1, X, y_cat1, cv=5, scoring='accuracy', n_jobs=-1, \n",
    "    train_sizes=np.linspace(0.1, 1.0, 10)\n",
    ")\n",
    "\n",
    "# Compute the mean accuracy scores for training and validation sets across folds\n",
    "train_scores_mean = np.mean(train_scores, axis=1)\n",
    "validation_scores_mean = np.mean(validation_scores, axis=1)\n",
    "\n",
    "# Plot the learning curve\n",
    "plt.figure(figsize=(8, 6))\n",
    "plt.plot(train_sizes, train_scores_mean, 'o-', label='Training Accuracy')\n",
    "plt.plot(train_sizes, validation_scores_mean, 'o-', label='Cross-Validation Accuracy')\n",
    "plt.xlabel('Training Set Size')\n",
    "plt.ylabel('Accuracy')\n",
    "plt.title('Learning Curve for RandomForestClassifier')\n",
    "plt.legend(loc='best')\n",
    "plt.show()"
   ]
  },
  {
   "cell_type": "code",
   "execution_count": 7,
   "id": "0e5260fe-1269-4733-a82f-38d114387cf9",
   "metadata": {
    "execution": {
     "iopub.execute_input": "2025-03-11T14:07:37.341385Z",
     "iopub.status.busy": "2025-03-11T14:07:37.341154Z",
     "iopub.status.idle": "2025-03-11T14:07:37.374155Z",
     "shell.execute_reply": "2025-03-11T14:07:37.373665Z",
     "shell.execute_reply.started": "2025-03-11T14:07:37.341367Z"
    }
   },
   "outputs": [
    {
     "data": {
      "text/html": [
       "<div>\n",
       "<style scoped>\n",
       "    .dataframe tbody tr th:only-of-type {\n",
       "        vertical-align: middle;\n",
       "    }\n",
       "\n",
       "    .dataframe tbody tr th {\n",
       "        vertical-align: top;\n",
       "    }\n",
       "\n",
       "    .dataframe thead th {\n",
       "        text-align: right;\n",
       "    }\n",
       "</style>\n",
       "<table border=\"1\" class=\"dataframe\">\n",
       "  <thead>\n",
       "    <tr style=\"text-align: right;\">\n",
       "      <th></th>\n",
       "      <th>dicot</th>\n",
       "      <th>monocot</th>\n",
       "    </tr>\n",
       "  </thead>\n",
       "  <tbody>\n",
       "    <tr>\n",
       "      <th>dicot</th>\n",
       "      <td>100.0</td>\n",
       "      <td>0.0</td>\n",
       "    </tr>\n",
       "    <tr>\n",
       "      <th>monocot</th>\n",
       "      <td>0.0</td>\n",
       "      <td>100.0</td>\n",
       "    </tr>\n",
       "  </tbody>\n",
       "</table>\n",
       "</div>"
      ],
      "text/plain": [
       "         dicot  monocot\n",
       "dicot    100.0      0.0\n",
       "monocot    0.0    100.0"
      ]
     },
     "execution_count": 7,
     "metadata": {},
     "output_type": "execute_result"
    }
   ],
   "source": [
    "import pandas as pd\n",
    "import numpy as np\n",
    "from sklearn.metrics import confusion_matrix\n",
    "\n",
    "y_pred_cat1 = clf_cat1.predict(X_test_cat1)\n",
    "cm = confusion_matrix(y_test_cat1, y_pred_cat1)\n",
    "cm_percentage = cm.astype('float') / cm.sum(axis=1)[:, np.newaxis] * 100\n",
    "\n",
    "class_labels = np.unique(y_test_cat1)  # Adjust if needed\n",
    "cm_df = pd.DataFrame(cm_percentage, index=class_labels, columns=class_labels)\n",
    "cm_df"
   ]
  },
  {
   "cell_type": "code",
   "execution_count": 8,
   "id": "c772d0d5-09bc-4cec-9e1b-2ce0e4e54105",
   "metadata": {
    "execution": {
     "iopub.execute_input": "2025-03-11T14:07:42.854376Z",
     "iopub.status.busy": "2025-03-11T14:07:42.853989Z",
     "iopub.status.idle": "2025-03-11T14:07:42.859360Z",
     "shell.execute_reply": "2025-03-11T14:07:42.858769Z",
     "shell.execute_reply.started": "2025-03-11T14:07:42.854356Z"
    }
   },
   "outputs": [],
   "source": [
    "# Split test data by predicted category1\n",
    "X_test_monocot = X_test_cat1[y_pred_cat1 == 'monocot']\n",
    "X_test_dicot   = X_test_cat1[y_pred_cat1 == 'dicot']\n",
    "\n",
    "y_test_monocot = df.loc[X_test_monocot.index, 'category2']\n",
    "y_test_dicot   = df.loc[X_test_dicot.index, 'category2']\n"
   ]
  },
  {
   "cell_type": "code",
   "execution_count": 9,
   "id": "4922033d-62c9-41d3-a976-3944c12003ed",
   "metadata": {
    "execution": {
     "iopub.execute_input": "2025-03-11T14:07:47.467815Z",
     "iopub.status.busy": "2025-03-11T14:07:47.467588Z",
     "iopub.status.idle": "2025-03-11T14:07:47.655007Z",
     "shell.execute_reply": "2025-03-11T14:07:47.654376Z",
     "shell.execute_reply.started": "2025-03-11T14:07:47.467798Z"
    }
   },
   "outputs": [],
   "source": [
    "# Level 2: Weed vs Crop (for monocot)\n",
    "monocot_mask = df['category1'] == 'monocot'\n",
    "X_monocot = X[monocot_mask]\n",
    "y_monocot = df['category2'][monocot_mask]\n",
    "\n",
    "X_train_mono, X_val_mono, y_train_mono, y_val_mono = train_test_split(X_monocot, y_monocot, test_size=0.2, random_state=42, stratify=y_monocot)\n",
    "clf_cat2_monocot = RandomForestClassifier(random_state=42)\n",
    "clf_cat2_monocot.fit(X_train_mono, y_train_mono)\n",
    "\n",
    "y_pred_cat2_monocot = clf_cat2_monocot.predict(X_test_monocot)"
   ]
  },
  {
   "cell_type": "code",
   "execution_count": 10,
   "id": "923b6eb6-0ea8-45cb-9eaf-9a4041a03455",
   "metadata": {
    "execution": {
     "iopub.execute_input": "2025-03-11T14:07:52.633823Z",
     "iopub.status.busy": "2025-03-11T14:07:52.633602Z",
     "iopub.status.idle": "2025-03-11T14:11:58.035362Z",
     "shell.execute_reply": "2025-03-11T14:11:58.034727Z",
     "shell.execute_reply.started": "2025-03-11T14:07:52.633808Z"
    }
   },
   "outputs": [],
   "source": [
    "param_grid = {\n",
    "    'n_estimators': [100, 200, 500],\n",
    "    'max_depth': [10, 20],\n",
    "    'min_samples_split': [2, 5, 10],\n",
    "    'min_samples_leaf': [1, 2, 4],\n",
    "    'bootstrap': [True, False]\n",
    "}\n",
    "grid_search = GridSearchCV(estimator=clf_cat2_monocot,param_grid=param_grid,cv=skf, scoring='accuracy')\n",
    "grid_search.fit(X_train_mono, y_train_mono)\n",
    "# Option 1: Use the best estimator from GridSearchCV\n",
    "final_model = grid_search.best_estimator_\n",
    "\n",
    "# Now you can use final_model to predict on new data:\n",
    "predictions = final_model.predict(X_test_monocot)"
   ]
  },
  {
   "cell_type": "code",
   "execution_count": 11,
   "id": "3b74b2d5-6d1b-4aa6-9271-7e2070292f57",
   "metadata": {
    "execution": {
     "iopub.execute_input": "2025-03-11T14:12:18.302977Z",
     "iopub.status.busy": "2025-03-11T14:12:18.302711Z",
     "iopub.status.idle": "2025-03-11T14:12:18.306509Z",
     "shell.execute_reply": "2025-03-11T14:12:18.305849Z",
     "shell.execute_reply.started": "2025-03-11T14:12:18.302957Z"
    }
   },
   "outputs": [
    {
     "name": "stdout",
     "output_type": "stream",
     "text": [
      "Best Parameters: {'bootstrap': True, 'max_depth': 20, 'min_samples_leaf': 1, 'min_samples_split': 2, 'n_estimators': 100}\n",
      "Best CV Score: 0.8476190476190476\n"
     ]
    }
   ],
   "source": [
    "# Print out the best parameters and the best cross-validation score\n",
    "print(\"Best Parameters:\", grid_search.best_params_)\n",
    "print(\"Best CV Score:\", grid_search.best_score_)"
   ]
  },
  {
   "cell_type": "code",
   "execution_count": 12,
   "id": "a180d729-2d68-4daf-acd5-9e2b8f5e5b68",
   "metadata": {
    "execution": {
     "iopub.execute_input": "2025-03-11T14:12:36.596057Z",
     "iopub.status.busy": "2025-03-11T14:12:36.595700Z",
     "iopub.status.idle": "2025-03-11T14:12:36.785655Z",
     "shell.execute_reply": "2025-03-11T14:12:36.783895Z",
     "shell.execute_reply.started": "2025-03-11T14:12:36.596032Z"
    }
   },
   "outputs": [
    {
     "name": "stdout",
     "output_type": "stream",
     "text": [
      "              precision    recall  f1-score   support\n",
      "\n",
      "        crop       0.94      0.97      0.96        34\n",
      "        weed       0.99      0.97      0.98        71\n",
      "\n",
      "    accuracy                           0.97       105\n",
      "   macro avg       0.96      0.97      0.97       105\n",
      "weighted avg       0.97      0.97      0.97       105\n",
      "\n"
     ]
    }
   ],
   "source": [
    "clf_cat2_monocot = RandomForestClassifier(random_state=42, \n",
    "                                  max_depth=20,\n",
    "                                  min_samples_leaf=1,\n",
    "                                  min_samples_split=2,\n",
    "                                  n_estimators=100,bootstrap=True)\n",
    "clf_cat2_monocot.fit(X_train_mono, y_train_mono)\n",
    "\n",
    "y_pred_cat2_monocot = clf_cat2_monocot.predict(X_test_monocot)\n",
    "# Generate and print the classification report\n",
    "report = classification_report(y_test_monocot, y_pred_cat2_monocot)\n",
    "print(report)"
   ]
  },
  {
   "cell_type": "code",
   "execution_count": 13,
   "id": "20f50510-e73f-4ac3-9add-e0fc2eb26ba1",
   "metadata": {
    "execution": {
     "iopub.execute_input": "2025-03-11T14:12:42.001894Z",
     "iopub.status.busy": "2025-03-11T14:12:42.001406Z",
     "iopub.status.idle": "2025-03-11T14:12:42.028010Z",
     "shell.execute_reply": "2025-03-11T14:12:42.027185Z",
     "shell.execute_reply.started": "2025-03-11T14:12:42.001875Z"
    }
   },
   "outputs": [
    {
     "data": {
      "text/html": [
       "<div>\n",
       "<style scoped>\n",
       "    .dataframe tbody tr th:only-of-type {\n",
       "        vertical-align: middle;\n",
       "    }\n",
       "\n",
       "    .dataframe tbody tr th {\n",
       "        vertical-align: top;\n",
       "    }\n",
       "\n",
       "    .dataframe thead th {\n",
       "        text-align: right;\n",
       "    }\n",
       "</style>\n",
       "<table border=\"1\" class=\"dataframe\">\n",
       "  <thead>\n",
       "    <tr style=\"text-align: right;\">\n",
       "      <th></th>\n",
       "      <th>crop</th>\n",
       "      <th>weed</th>\n",
       "    </tr>\n",
       "  </thead>\n",
       "  <tbody>\n",
       "    <tr>\n",
       "      <th>crop</th>\n",
       "      <td>97.058824</td>\n",
       "      <td>2.941176</td>\n",
       "    </tr>\n",
       "    <tr>\n",
       "      <th>weed</th>\n",
       "      <td>2.816901</td>\n",
       "      <td>97.183099</td>\n",
       "    </tr>\n",
       "  </tbody>\n",
       "</table>\n",
       "</div>"
      ],
      "text/plain": [
       "           crop       weed\n",
       "crop  97.058824   2.941176\n",
       "weed   2.816901  97.183099"
      ]
     },
     "execution_count": 13,
     "metadata": {},
     "output_type": "execute_result"
    }
   ],
   "source": [
    "y_pred_cat2_monocot = clf_cat2_monocot.predict(X_test_monocot)\n",
    "cm = confusion_matrix(y_test_monocot, y_pred_cat2_monocot)\n",
    "cm_percentage = cm.astype('float') / cm.sum(axis=1)[:, np.newaxis] * 100\n",
    "\n",
    "class_labels = np.unique(y_test_monocot)  # Adjust if needed\n",
    "cm_df = pd.DataFrame(cm_percentage, index=class_labels, columns=class_labels)\n",
    "cm_df"
   ]
  },
  {
   "cell_type": "code",
   "execution_count": 14,
   "id": "91cc08b8-203a-4fa6-ae9c-c28a4e5dc269",
   "metadata": {
    "execution": {
     "iopub.execute_input": "2025-03-11T14:12:48.445256Z",
     "iopub.status.busy": "2025-03-11T14:12:48.444767Z",
     "iopub.status.idle": "2025-03-11T14:12:48.716234Z",
     "shell.execute_reply": "2025-03-11T14:12:48.715415Z",
     "shell.execute_reply.started": "2025-03-11T14:12:48.445227Z"
    }
   },
   "outputs": [],
   "source": [
    "# Level 2: Weed vs Crop (for dicot)\n",
    "dicot_mask = df['category1'] == 'dicot'\n",
    "X_dicot = X[dicot_mask]\n",
    "y_dicot = df['category2'][dicot_mask]\n",
    "\n",
    "X_train_di, X_val_di, y_train_di, y_val_di = train_test_split(X_dicot, y_dicot, test_size=0.2, random_state=42, stratify=y_dicot)\n",
    "clf_cat2_dicot = RandomForestClassifier(random_state=42)\n",
    "clf_cat2_dicot.fit(X_train_di, y_train_di)\n",
    "\n",
    "y_pred_cat2_dicot = clf_cat2_dicot.predict(X_test_dicot)\n"
   ]
  },
  {
   "cell_type": "code",
   "execution_count": 15,
   "id": "bbb024c2-58b1-43c7-a5b4-80364c5aea95",
   "metadata": {
    "execution": {
     "iopub.execute_input": "2025-03-11T14:12:53.336545Z",
     "iopub.status.busy": "2025-03-11T14:12:53.336273Z",
     "iopub.status.idle": "2025-03-11T14:17:29.574833Z",
     "shell.execute_reply": "2025-03-11T14:17:29.574231Z",
     "shell.execute_reply.started": "2025-03-11T14:12:53.336527Z"
    }
   },
   "outputs": [],
   "source": [
    "param_grid = {\n",
    "    'n_estimators': [100, 200, 500],\n",
    "    'max_depth': [None, 10, 20],\n",
    "    'min_samples_split': [2, 5, 10],\n",
    "    'min_samples_leaf': [1, 2, 4],\n",
    "    'bootstrap': [True, False]\n",
    "}\n",
    "grid_search = GridSearchCV(estimator=clf_cat2_dicot,param_grid=param_grid,cv=skf, scoring='accuracy')\n",
    "grid_search.fit(X_train_di, y_train_di)\n",
    "# Option 1: Use the best estimator from GridSearchCV\n",
    "final_model = grid_search.best_estimator_\n",
    "\n",
    "# Now you can use final_model to predict on new data:\n",
    "predictions = final_model.predict(X_test_dicot)"
   ]
  },
  {
   "cell_type": "code",
   "execution_count": 16,
   "id": "a45df914-8f22-4a49-8801-072b57f5bed1",
   "metadata": {
    "execution": {
     "iopub.execute_input": "2025-03-11T14:17:51.524437Z",
     "iopub.status.busy": "2025-03-11T14:17:51.524045Z",
     "iopub.status.idle": "2025-03-11T14:17:51.527502Z",
     "shell.execute_reply": "2025-03-11T14:17:51.526966Z",
     "shell.execute_reply.started": "2025-03-11T14:17:51.524419Z"
    }
   },
   "outputs": [
    {
     "name": "stdout",
     "output_type": "stream",
     "text": [
      "Best Parameters: {'bootstrap': True, 'max_depth': None, 'min_samples_leaf': 1, 'min_samples_split': 2, 'n_estimators': 100}\n",
      "Best CV Score: 1.0\n"
     ]
    }
   ],
   "source": [
    "# Print out the best parameters and the best cross-validation score\n",
    "print(\"Best Parameters:\", grid_search.best_params_)\n",
    "print(\"Best CV Score:\", grid_search.best_score_)"
   ]
  },
  {
   "cell_type": "code",
   "execution_count": 17,
   "id": "9faf3c45-3f31-4236-80d4-fa445753016f",
   "metadata": {
    "execution": {
     "iopub.execute_input": "2025-03-11T14:18:18.872931Z",
     "iopub.status.busy": "2025-03-11T14:18:18.872711Z",
     "iopub.status.idle": "2025-03-11T14:18:19.003939Z",
     "shell.execute_reply": "2025-03-11T14:18:19.003270Z",
     "shell.execute_reply.started": "2025-03-11T14:18:18.872915Z"
    }
   },
   "outputs": [
    {
     "name": "stdout",
     "output_type": "stream",
     "text": [
      "              precision    recall  f1-score   support\n",
      "\n",
      "        weed       1.00      1.00      1.00        44\n",
      "\n",
      "    accuracy                           1.00        44\n",
      "   macro avg       1.00      1.00      1.00        44\n",
      "weighted avg       1.00      1.00      1.00        44\n",
      "\n"
     ]
    }
   ],
   "source": [
    "clf_cat2_dicot = RandomForestClassifier(random_state=42, \n",
    "                                  max_depth=None,\n",
    "                                  min_samples_leaf=1,\n",
    "                                  min_samples_split=2,\n",
    "                                  n_estimators=100, bootstrap=True)\n",
    "clf_cat2_dicot.fit(X_train_di, y_train_di)\n",
    "\n",
    "y_pred_cat2_dicot = clf_cat2_dicot.predict(X_test_dicot)\n",
    "# Generate and print the classification report\n",
    "report = classification_report(y_test_dicot, y_pred_cat2_dicot)\n",
    "print(report)"
   ]
  },
  {
   "cell_type": "code",
   "execution_count": 18,
   "id": "d8b262a0-96c0-4f54-b7d5-e3a7fa3e57bb",
   "metadata": {
    "execution": {
     "iopub.execute_input": "2025-03-11T14:18:27.642825Z",
     "iopub.status.busy": "2025-03-11T14:18:27.642475Z",
     "iopub.status.idle": "2025-03-11T14:18:27.666969Z",
     "shell.execute_reply": "2025-03-11T14:18:27.666524Z",
     "shell.execute_reply.started": "2025-03-11T14:18:27.642798Z"
    }
   },
   "outputs": [
    {
     "data": {
      "text/html": [
       "<div>\n",
       "<style scoped>\n",
       "    .dataframe tbody tr th:only-of-type {\n",
       "        vertical-align: middle;\n",
       "    }\n",
       "\n",
       "    .dataframe tbody tr th {\n",
       "        vertical-align: top;\n",
       "    }\n",
       "\n",
       "    .dataframe thead th {\n",
       "        text-align: right;\n",
       "    }\n",
       "</style>\n",
       "<table border=\"1\" class=\"dataframe\">\n",
       "  <thead>\n",
       "    <tr style=\"text-align: right;\">\n",
       "      <th></th>\n",
       "      <th>weed</th>\n",
       "    </tr>\n",
       "  </thead>\n",
       "  <tbody>\n",
       "    <tr>\n",
       "      <th>weed</th>\n",
       "      <td>100.0</td>\n",
       "    </tr>\n",
       "  </tbody>\n",
       "</table>\n",
       "</div>"
      ],
      "text/plain": [
       "       weed\n",
       "weed  100.0"
      ]
     },
     "execution_count": 18,
     "metadata": {},
     "output_type": "execute_result"
    }
   ],
   "source": [
    "y_pred_cat2_dicot = clf_cat2_dicot.predict(X_test_dicot)\n",
    "cm = confusion_matrix(y_test_dicot, y_pred_cat2_dicot)\n",
    "cm_percentage = cm.astype('float') / cm.sum(axis=1)[:, np.newaxis] * 100\n",
    "\n",
    "class_labels = np.unique(y_test_dicot)  # Adjust if needed\n",
    "cm_df = pd.DataFrame(cm_percentage, index=class_labels, columns=class_labels)\n",
    "cm_df"
   ]
  },
  {
   "cell_type": "code",
   "execution_count": 19,
   "id": "866573d0-b0e8-44cb-adc8-fe60df4306c6",
   "metadata": {
    "execution": {
     "iopub.execute_input": "2025-03-11T14:19:14.497828Z",
     "iopub.status.busy": "2025-03-11T14:19:14.497323Z",
     "iopub.status.idle": "2025-03-11T14:19:14.910839Z",
     "shell.execute_reply": "2025-03-11T14:19:14.910285Z",
     "shell.execute_reply.started": "2025-03-11T14:19:14.497807Z"
    }
   },
   "outputs": [
    {
     "data": {
      "text/html": [
       "<style>#sk-container-id-1 {color: black;}#sk-container-id-1 pre{padding: 0;}#sk-container-id-1 div.sk-toggleable {background-color: white;}#sk-container-id-1 label.sk-toggleable__label {cursor: pointer;display: block;width: 100%;margin-bottom: 0;padding: 0.3em;box-sizing: border-box;text-align: center;}#sk-container-id-1 label.sk-toggleable__label-arrow:before {content: \"▸\";float: left;margin-right: 0.25em;color: #696969;}#sk-container-id-1 label.sk-toggleable__label-arrow:hover:before {color: black;}#sk-container-id-1 div.sk-estimator:hover label.sk-toggleable__label-arrow:before {color: black;}#sk-container-id-1 div.sk-toggleable__content {max-height: 0;max-width: 0;overflow: hidden;text-align: left;background-color: #f0f8ff;}#sk-container-id-1 div.sk-toggleable__content pre {margin: 0.2em;color: black;border-radius: 0.25em;background-color: #f0f8ff;}#sk-container-id-1 input.sk-toggleable__control:checked~div.sk-toggleable__content {max-height: 200px;max-width: 100%;overflow: auto;}#sk-container-id-1 input.sk-toggleable__control:checked~label.sk-toggleable__label-arrow:before {content: \"▾\";}#sk-container-id-1 div.sk-estimator input.sk-toggleable__control:checked~label.sk-toggleable__label {background-color: #d4ebff;}#sk-container-id-1 div.sk-label input.sk-toggleable__control:checked~label.sk-toggleable__label {background-color: #d4ebff;}#sk-container-id-1 input.sk-hidden--visually {border: 0;clip: rect(1px 1px 1px 1px);clip: rect(1px, 1px, 1px, 1px);height: 1px;margin: -1px;overflow: hidden;padding: 0;position: absolute;width: 1px;}#sk-container-id-1 div.sk-estimator {font-family: monospace;background-color: #f0f8ff;border: 1px dotted black;border-radius: 0.25em;box-sizing: border-box;margin-bottom: 0.5em;}#sk-container-id-1 div.sk-estimator:hover {background-color: #d4ebff;}#sk-container-id-1 div.sk-parallel-item::after {content: \"\";width: 100%;border-bottom: 1px solid gray;flex-grow: 1;}#sk-container-id-1 div.sk-label:hover label.sk-toggleable__label {background-color: #d4ebff;}#sk-container-id-1 div.sk-serial::before {content: \"\";position: absolute;border-left: 1px solid gray;box-sizing: border-box;top: 0;bottom: 0;left: 50%;z-index: 0;}#sk-container-id-1 div.sk-serial {display: flex;flex-direction: column;align-items: center;background-color: white;padding-right: 0.2em;padding-left: 0.2em;position: relative;}#sk-container-id-1 div.sk-item {position: relative;z-index: 1;}#sk-container-id-1 div.sk-parallel {display: flex;align-items: stretch;justify-content: center;background-color: white;position: relative;}#sk-container-id-1 div.sk-item::before, #sk-container-id-1 div.sk-parallel-item::before {content: \"\";position: absolute;border-left: 1px solid gray;box-sizing: border-box;top: 0;bottom: 0;left: 50%;z-index: -1;}#sk-container-id-1 div.sk-parallel-item {display: flex;flex-direction: column;z-index: 1;position: relative;background-color: white;}#sk-container-id-1 div.sk-parallel-item:first-child::after {align-self: flex-end;width: 50%;}#sk-container-id-1 div.sk-parallel-item:last-child::after {align-self: flex-start;width: 50%;}#sk-container-id-1 div.sk-parallel-item:only-child::after {width: 0;}#sk-container-id-1 div.sk-dashed-wrapped {border: 1px dashed gray;margin: 0 0.4em 0.5em 0.4em;box-sizing: border-box;padding-bottom: 0.4em;background-color: white;}#sk-container-id-1 div.sk-label label {font-family: monospace;font-weight: bold;display: inline-block;line-height: 1.2em;}#sk-container-id-1 div.sk-label-container {text-align: center;}#sk-container-id-1 div.sk-container {/* jupyter's `normalize.less` sets `[hidden] { display: none; }` but bootstrap.min.css set `[hidden] { display: none !important; }` so we also need the `!important` here to be able to override the default hidden behavior on the sphinx rendered scikit-learn.org. See: https://github.com/scikit-learn/scikit-learn/issues/21755 */display: inline-block !important;position: relative;}#sk-container-id-1 div.sk-text-repr-fallback {display: none;}</style><div id=\"sk-container-id-1\" class=\"sk-top-container\"><div class=\"sk-text-repr-fallback\"><pre>RandomForestClassifier(random_state=42)</pre><b>In a Jupyter environment, please rerun this cell to show the HTML representation or trust the notebook. <br />On GitHub, the HTML representation is unable to render, please try loading this page with nbviewer.org.</b></div><div class=\"sk-container\" hidden><div class=\"sk-item\"><div class=\"sk-estimator sk-toggleable\"><input class=\"sk-toggleable__control sk-hidden--visually\" id=\"sk-estimator-id-1\" type=\"checkbox\" checked><label for=\"sk-estimator-id-1\" class=\"sk-toggleable__label sk-toggleable__label-arrow\">RandomForestClassifier</label><div class=\"sk-toggleable__content\"><pre>RandomForestClassifier(random_state=42)</pre></div></div></div></div></div>"
      ],
      "text/plain": [
       "RandomForestClassifier(random_state=42)"
      ]
     },
     "execution_count": 19,
     "metadata": {},
     "output_type": "execute_result"
    }
   ],
   "source": [
    "# Example: Monocot-Weed model (if multiple species in that group)\n",
    "mono_weed_mask = (df['category1'] == 'monocot') & (df['category2'] == 'weed')\n",
    "X_mono_weed = X[mono_weed_mask]\n",
    "y_mono_weed = df['species'][mono_weed_mask]\n",
    "\n",
    "clf_mono_weed = RandomForestClassifier(random_state=42)\n",
    "clf_mono_weed.fit(X_mono_weed, y_mono_weed)\n",
    "\n",
    "# Monocot-Crop model\n",
    "mono_crop_mask = (df['category1'] == 'monocot') & (df['category2'] == 'crop')\n",
    "X_mono_crop = X[mono_crop_mask]\n",
    "y_mono_crop = df['species'][mono_crop_mask]\n",
    "\n",
    "clf_mono_crop = RandomForestClassifier(random_state=42)\n",
    "clf_mono_crop.fit(X_mono_crop, y_mono_crop)\n",
    "\n",
    "# Dicot-Weed model\n",
    "dicot_weed_mask = (df['category1'] == 'dicot') & (df['category2'] == 'weed')\n",
    "X_dicot_weed = X[dicot_weed_mask]\n",
    "y_dicot_weed = df['species'][dicot_weed_mask]\n",
    "\n",
    "clf_dicot_weed = RandomForestClassifier(random_state=42)\n",
    "clf_dicot_weed.fit(X_dicot_weed, y_dicot_weed)\n",
    "\n",
    "# Dicot-Crop model\n",
    "###dicot_crop_mask = (df['category1'] == 'dicot') & (df['category2'] == 'crop')\n",
    "###X_dicot_crop = X[dicot_crop_mask]\n",
    "###y_dicot_crop = df['species'][dicot_crop_mask]\n",
    "\n",
    "###clf_dicot_crop = RandomForestClassifier(random_state=42)\n",
    "###clf_dicot_crop.fit(X_dicot_crop, y_dicot_crop)"
   ]
  },
  {
   "cell_type": "code",
   "execution_count": 20,
   "id": "ae536043-7815-4326-b8b4-f8ee3f3125fb",
   "metadata": {
    "execution": {
     "iopub.execute_input": "2025-03-11T14:19:21.731051Z",
     "iopub.status.busy": "2025-03-11T14:19:21.730819Z",
     "iopub.status.idle": "2025-03-11T14:24:52.756717Z",
     "shell.execute_reply": "2025-03-11T14:24:52.755907Z",
     "shell.execute_reply.started": "2025-03-11T14:19:21.731034Z"
    }
   },
   "outputs": [
    {
     "name": "stdout",
     "output_type": "stream",
     "text": [
      "Monocot-Weed best parameters: {'bootstrap': True, 'max_depth': None, 'min_samples_leaf': 1, 'min_samples_split': 5, 'n_estimators': 200}\n"
     ]
    }
   ],
   "source": [
    "from sklearn.model_selection import GridSearchCV, StratifiedKFold\n",
    "from sklearn.ensemble import RandomForestClassifier\n",
    "# Define a stratified k-fold splitter\n",
    "skf = StratifiedKFold(n_splits=5, shuffle=True, random_state=42)\n",
    "# ------------------------------\n",
    "# Monocot-Weed model\n",
    "# ------------------------------\n",
    "\n",
    "mono_weed_mask = (df['category1'] == 'monocot') & (df['category2'] == 'weed')\n",
    "X_mono_weed = X[mono_weed_mask]\n",
    "y_mono_weed = df['species'][mono_weed_mask]\n",
    "\n",
    "param_grid = {\n",
    "    'n_estimators': [100, 200, 500],\n",
    "    'max_depth': [None, 10, 20],\n",
    "    'min_samples_split': [2, 5, 10],\n",
    "    'min_samples_leaf': [1, 2, 4],\n",
    "    'bootstrap': [True, False]\n",
    "}\n",
    "rf_mono_weed = RandomForestClassifier(random_state=42)\n",
    "grid_mono_weed = GridSearchCV(rf_mono_weed, param_grid=param_grid,\n",
    "                              cv=skf, scoring='accuracy')\n",
    "grid_mono_weed.fit(X_mono_weed, y_mono_weed)\n",
    "clf_mono_weed = grid_mono_weed.best_estimator_\n",
    "print(\"Monocot-Weed best parameters:\", grid_mono_weed.best_params_)"
   ]
  },
  {
   "cell_type": "code",
   "execution_count": 21,
   "id": "e4ae48d8-f26e-4ea2-b8da-c7e1ca845449",
   "metadata": {
    "execution": {
     "iopub.execute_input": "2025-03-11T14:24:58.070262Z",
     "iopub.status.busy": "2025-03-11T14:24:58.069992Z",
     "iopub.status.idle": "2025-03-11T14:24:58.073529Z",
     "shell.execute_reply": "2025-03-11T14:24:58.072767Z",
     "shell.execute_reply.started": "2025-03-11T14:24:58.070234Z"
    }
   },
   "outputs": [
    {
     "name": "stdout",
     "output_type": "stream",
     "text": [
      "Monocot-Weed best parameters: {'bootstrap': True, 'max_depth': None, 'min_samples_leaf': 1, 'min_samples_split': 5, 'n_estimators': 200}\n",
      "Best CV Score: 1.0\n"
     ]
    }
   ],
   "source": [
    "print(\"Monocot-Weed best parameters:\", grid_mono_weed.best_params_)\n",
    "print(\"Best CV Score:\", grid_search.best_score_)"
   ]
  },
  {
   "cell_type": "code",
   "execution_count": 22,
   "id": "d628e2c1-7afb-4304-8233-9159cbf1c581",
   "metadata": {
    "execution": {
     "iopub.execute_input": "2025-03-11T14:25:23.317481Z",
     "iopub.status.busy": "2025-03-11T14:25:23.317157Z",
     "iopub.status.idle": "2025-03-11T14:25:23.617936Z",
     "shell.execute_reply": "2025-03-11T14:25:23.617384Z",
     "shell.execute_reply.started": "2025-03-11T14:25:23.317462Z"
    }
   },
   "outputs": [
    {
     "data": {
      "text/html": [
       "<style>#sk-container-id-2 {color: black;}#sk-container-id-2 pre{padding: 0;}#sk-container-id-2 div.sk-toggleable {background-color: white;}#sk-container-id-2 label.sk-toggleable__label {cursor: pointer;display: block;width: 100%;margin-bottom: 0;padding: 0.3em;box-sizing: border-box;text-align: center;}#sk-container-id-2 label.sk-toggleable__label-arrow:before {content: \"▸\";float: left;margin-right: 0.25em;color: #696969;}#sk-container-id-2 label.sk-toggleable__label-arrow:hover:before {color: black;}#sk-container-id-2 div.sk-estimator:hover label.sk-toggleable__label-arrow:before {color: black;}#sk-container-id-2 div.sk-toggleable__content {max-height: 0;max-width: 0;overflow: hidden;text-align: left;background-color: #f0f8ff;}#sk-container-id-2 div.sk-toggleable__content pre {margin: 0.2em;color: black;border-radius: 0.25em;background-color: #f0f8ff;}#sk-container-id-2 input.sk-toggleable__control:checked~div.sk-toggleable__content {max-height: 200px;max-width: 100%;overflow: auto;}#sk-container-id-2 input.sk-toggleable__control:checked~label.sk-toggleable__label-arrow:before {content: \"▾\";}#sk-container-id-2 div.sk-estimator input.sk-toggleable__control:checked~label.sk-toggleable__label {background-color: #d4ebff;}#sk-container-id-2 div.sk-label input.sk-toggleable__control:checked~label.sk-toggleable__label {background-color: #d4ebff;}#sk-container-id-2 input.sk-hidden--visually {border: 0;clip: rect(1px 1px 1px 1px);clip: rect(1px, 1px, 1px, 1px);height: 1px;margin: -1px;overflow: hidden;padding: 0;position: absolute;width: 1px;}#sk-container-id-2 div.sk-estimator {font-family: monospace;background-color: #f0f8ff;border: 1px dotted black;border-radius: 0.25em;box-sizing: border-box;margin-bottom: 0.5em;}#sk-container-id-2 div.sk-estimator:hover {background-color: #d4ebff;}#sk-container-id-2 div.sk-parallel-item::after {content: \"\";width: 100%;border-bottom: 1px solid gray;flex-grow: 1;}#sk-container-id-2 div.sk-label:hover label.sk-toggleable__label {background-color: #d4ebff;}#sk-container-id-2 div.sk-serial::before {content: \"\";position: absolute;border-left: 1px solid gray;box-sizing: border-box;top: 0;bottom: 0;left: 50%;z-index: 0;}#sk-container-id-2 div.sk-serial {display: flex;flex-direction: column;align-items: center;background-color: white;padding-right: 0.2em;padding-left: 0.2em;position: relative;}#sk-container-id-2 div.sk-item {position: relative;z-index: 1;}#sk-container-id-2 div.sk-parallel {display: flex;align-items: stretch;justify-content: center;background-color: white;position: relative;}#sk-container-id-2 div.sk-item::before, #sk-container-id-2 div.sk-parallel-item::before {content: \"\";position: absolute;border-left: 1px solid gray;box-sizing: border-box;top: 0;bottom: 0;left: 50%;z-index: -1;}#sk-container-id-2 div.sk-parallel-item {display: flex;flex-direction: column;z-index: 1;position: relative;background-color: white;}#sk-container-id-2 div.sk-parallel-item:first-child::after {align-self: flex-end;width: 50%;}#sk-container-id-2 div.sk-parallel-item:last-child::after {align-self: flex-start;width: 50%;}#sk-container-id-2 div.sk-parallel-item:only-child::after {width: 0;}#sk-container-id-2 div.sk-dashed-wrapped {border: 1px dashed gray;margin: 0 0.4em 0.5em 0.4em;box-sizing: border-box;padding-bottom: 0.4em;background-color: white;}#sk-container-id-2 div.sk-label label {font-family: monospace;font-weight: bold;display: inline-block;line-height: 1.2em;}#sk-container-id-2 div.sk-label-container {text-align: center;}#sk-container-id-2 div.sk-container {/* jupyter's `normalize.less` sets `[hidden] { display: none; }` but bootstrap.min.css set `[hidden] { display: none !important; }` so we also need the `!important` here to be able to override the default hidden behavior on the sphinx rendered scikit-learn.org. See: https://github.com/scikit-learn/scikit-learn/issues/21755 */display: inline-block !important;position: relative;}#sk-container-id-2 div.sk-text-repr-fallback {display: none;}</style><div id=\"sk-container-id-2\" class=\"sk-top-container\"><div class=\"sk-text-repr-fallback\"><pre>RandomForestClassifier(min_samples_split=5, n_estimators=200, random_state=42)</pre><b>In a Jupyter environment, please rerun this cell to show the HTML representation or trust the notebook. <br />On GitHub, the HTML representation is unable to render, please try loading this page with nbviewer.org.</b></div><div class=\"sk-container\" hidden><div class=\"sk-item\"><div class=\"sk-estimator sk-toggleable\"><input class=\"sk-toggleable__control sk-hidden--visually\" id=\"sk-estimator-id-2\" type=\"checkbox\" checked><label for=\"sk-estimator-id-2\" class=\"sk-toggleable__label sk-toggleable__label-arrow\">RandomForestClassifier</label><div class=\"sk-toggleable__content\"><pre>RandomForestClassifier(min_samples_split=5, n_estimators=200, random_state=42)</pre></div></div></div></div></div>"
      ],
      "text/plain": [
       "RandomForestClassifier(min_samples_split=5, n_estimators=200, random_state=42)"
      ]
     },
     "execution_count": 22,
     "metadata": {},
     "output_type": "execute_result"
    }
   ],
   "source": [
    "clf_mono_weed = RandomForestClassifier(random_state=42, \n",
    "                                  max_depth=None,\n",
    "                                  min_samples_leaf=1,\n",
    "                                  min_samples_split=5,\n",
    "                                  n_estimators=200, bootstrap=True)\n",
    "clf_mono_weed.fit(X_mono_weed, y_mono_weed)"
   ]
  },
  {
   "cell_type": "code",
   "execution_count": 23,
   "id": "fa350362-7096-4582-ab08-a07447acca5a",
   "metadata": {
    "execution": {
     "iopub.execute_input": "2025-03-11T14:25:29.000875Z",
     "iopub.status.busy": "2025-03-11T14:25:29.000554Z",
     "iopub.status.idle": "2025-03-11T14:30:02.559936Z",
     "shell.execute_reply": "2025-03-11T14:30:02.559268Z",
     "shell.execute_reply.started": "2025-03-11T14:25:29.000849Z"
    }
   },
   "outputs": [
    {
     "name": "stdout",
     "output_type": "stream",
     "text": [
      "Monocot-Crop best parameters: {'bootstrap': True, 'max_depth': None, 'min_samples_leaf': 4, 'min_samples_split': 10, 'n_estimators': 100}\n",
      "Best CV Score: 1.0\n"
     ]
    }
   ],
   "source": [
    "# ------------------------------\n",
    "# Monocot-Crop model\n",
    "# ------------------------------\n",
    "mono_crop_mask = (df['category1'] == 'monocot') & (df['category2'] == 'crop')\n",
    "X_mono_crop = X[mono_crop_mask]\n",
    "y_mono_crop = df['species'][mono_crop_mask]\n",
    "\n",
    "param_grid_mono_crop = {\n",
    " 'n_estimators': [100, 200, 500],\n",
    "    'max_depth': [None, 10, 20],\n",
    "    'min_samples_split': [2, 5, 10],\n",
    "    'min_samples_leaf': [1, 2, 4],\n",
    "    'bootstrap': [True, False]\n",
    "}\n",
    "\n",
    "rf_mono_crop = RandomForestClassifier(random_state=42)\n",
    "grid_mono_crop = GridSearchCV(rf_mono_crop, param_grid=param_grid_mono_crop,\n",
    "                              cv=skf, scoring='accuracy')\n",
    "grid_mono_crop.fit(X_mono_crop, y_mono_crop)\n",
    "clf_mono_crop = grid_mono_crop.best_estimator_\n",
    "print(\"Monocot-Crop best parameters:\", grid_mono_crop.best_params_)\n",
    "print(\"Best CV Score:\", grid_search.best_score_)"
   ]
  },
  {
   "cell_type": "code",
   "execution_count": 24,
   "id": "7f5a5b7b-f99e-4f88-9a9d-a1e6214c9d8d",
   "metadata": {
    "execution": {
     "iopub.execute_input": "2025-03-11T14:31:35.319045Z",
     "iopub.status.busy": "2025-03-11T14:31:35.318813Z",
     "iopub.status.idle": "2025-03-11T14:31:35.452134Z",
     "shell.execute_reply": "2025-03-11T14:31:35.451596Z",
     "shell.execute_reply.started": "2025-03-11T14:31:35.319027Z"
    }
   },
   "outputs": [
    {
     "data": {
      "text/html": [
       "<style>#sk-container-id-3 {color: black;}#sk-container-id-3 pre{padding: 0;}#sk-container-id-3 div.sk-toggleable {background-color: white;}#sk-container-id-3 label.sk-toggleable__label {cursor: pointer;display: block;width: 100%;margin-bottom: 0;padding: 0.3em;box-sizing: border-box;text-align: center;}#sk-container-id-3 label.sk-toggleable__label-arrow:before {content: \"▸\";float: left;margin-right: 0.25em;color: #696969;}#sk-container-id-3 label.sk-toggleable__label-arrow:hover:before {color: black;}#sk-container-id-3 div.sk-estimator:hover label.sk-toggleable__label-arrow:before {color: black;}#sk-container-id-3 div.sk-toggleable__content {max-height: 0;max-width: 0;overflow: hidden;text-align: left;background-color: #f0f8ff;}#sk-container-id-3 div.sk-toggleable__content pre {margin: 0.2em;color: black;border-radius: 0.25em;background-color: #f0f8ff;}#sk-container-id-3 input.sk-toggleable__control:checked~div.sk-toggleable__content {max-height: 200px;max-width: 100%;overflow: auto;}#sk-container-id-3 input.sk-toggleable__control:checked~label.sk-toggleable__label-arrow:before {content: \"▾\";}#sk-container-id-3 div.sk-estimator input.sk-toggleable__control:checked~label.sk-toggleable__label {background-color: #d4ebff;}#sk-container-id-3 div.sk-label input.sk-toggleable__control:checked~label.sk-toggleable__label {background-color: #d4ebff;}#sk-container-id-3 input.sk-hidden--visually {border: 0;clip: rect(1px 1px 1px 1px);clip: rect(1px, 1px, 1px, 1px);height: 1px;margin: -1px;overflow: hidden;padding: 0;position: absolute;width: 1px;}#sk-container-id-3 div.sk-estimator {font-family: monospace;background-color: #f0f8ff;border: 1px dotted black;border-radius: 0.25em;box-sizing: border-box;margin-bottom: 0.5em;}#sk-container-id-3 div.sk-estimator:hover {background-color: #d4ebff;}#sk-container-id-3 div.sk-parallel-item::after {content: \"\";width: 100%;border-bottom: 1px solid gray;flex-grow: 1;}#sk-container-id-3 div.sk-label:hover label.sk-toggleable__label {background-color: #d4ebff;}#sk-container-id-3 div.sk-serial::before {content: \"\";position: absolute;border-left: 1px solid gray;box-sizing: border-box;top: 0;bottom: 0;left: 50%;z-index: 0;}#sk-container-id-3 div.sk-serial {display: flex;flex-direction: column;align-items: center;background-color: white;padding-right: 0.2em;padding-left: 0.2em;position: relative;}#sk-container-id-3 div.sk-item {position: relative;z-index: 1;}#sk-container-id-3 div.sk-parallel {display: flex;align-items: stretch;justify-content: center;background-color: white;position: relative;}#sk-container-id-3 div.sk-item::before, #sk-container-id-3 div.sk-parallel-item::before {content: \"\";position: absolute;border-left: 1px solid gray;box-sizing: border-box;top: 0;bottom: 0;left: 50%;z-index: -1;}#sk-container-id-3 div.sk-parallel-item {display: flex;flex-direction: column;z-index: 1;position: relative;background-color: white;}#sk-container-id-3 div.sk-parallel-item:first-child::after {align-self: flex-end;width: 50%;}#sk-container-id-3 div.sk-parallel-item:last-child::after {align-self: flex-start;width: 50%;}#sk-container-id-3 div.sk-parallel-item:only-child::after {width: 0;}#sk-container-id-3 div.sk-dashed-wrapped {border: 1px dashed gray;margin: 0 0.4em 0.5em 0.4em;box-sizing: border-box;padding-bottom: 0.4em;background-color: white;}#sk-container-id-3 div.sk-label label {font-family: monospace;font-weight: bold;display: inline-block;line-height: 1.2em;}#sk-container-id-3 div.sk-label-container {text-align: center;}#sk-container-id-3 div.sk-container {/* jupyter's `normalize.less` sets `[hidden] { display: none; }` but bootstrap.min.css set `[hidden] { display: none !important; }` so we also need the `!important` here to be able to override the default hidden behavior on the sphinx rendered scikit-learn.org. See: https://github.com/scikit-learn/scikit-learn/issues/21755 */display: inline-block !important;position: relative;}#sk-container-id-3 div.sk-text-repr-fallback {display: none;}</style><div id=\"sk-container-id-3\" class=\"sk-top-container\"><div class=\"sk-text-repr-fallback\"><pre>RandomForestClassifier(min_samples_leaf=4, min_samples_split=10,\n",
       "                       random_state=42)</pre><b>In a Jupyter environment, please rerun this cell to show the HTML representation or trust the notebook. <br />On GitHub, the HTML representation is unable to render, please try loading this page with nbviewer.org.</b></div><div class=\"sk-container\" hidden><div class=\"sk-item\"><div class=\"sk-estimator sk-toggleable\"><input class=\"sk-toggleable__control sk-hidden--visually\" id=\"sk-estimator-id-3\" type=\"checkbox\" checked><label for=\"sk-estimator-id-3\" class=\"sk-toggleable__label sk-toggleable__label-arrow\">RandomForestClassifier</label><div class=\"sk-toggleable__content\"><pre>RandomForestClassifier(min_samples_leaf=4, min_samples_split=10,\n",
       "                       random_state=42)</pre></div></div></div></div></div>"
      ],
      "text/plain": [
       "RandomForestClassifier(min_samples_leaf=4, min_samples_split=10,\n",
       "                       random_state=42)"
      ]
     },
     "execution_count": 24,
     "metadata": {},
     "output_type": "execute_result"
    }
   ],
   "source": [
    "clf_mono_crop = RandomForestClassifier(random_state=42, \n",
    "                                  max_depth=None,\n",
    "                                  min_samples_leaf=4,\n",
    "                                  min_samples_split=10,\n",
    "                                  n_estimators=100, bootstrap=True)\n",
    "clf_mono_crop.fit(X_mono_crop, y_mono_crop)"
   ]
  },
  {
   "cell_type": "code",
   "execution_count": 25,
   "id": "e4e5a886-07cb-4754-a19b-38bc74ad23eb",
   "metadata": {
    "execution": {
     "iopub.execute_input": "2025-03-11T14:31:43.349756Z",
     "iopub.status.busy": "2025-03-11T14:31:43.349522Z",
     "iopub.status.idle": "2025-03-11T14:36:16.225632Z",
     "shell.execute_reply": "2025-03-11T14:36:16.224953Z",
     "shell.execute_reply.started": "2025-03-11T14:31:43.349737Z"
    }
   },
   "outputs": [
    {
     "name": "stdout",
     "output_type": "stream",
     "text": [
      "Dicot-Weed best parameters: {'bootstrap': True, 'max_depth': None, 'min_samples_leaf': 2, 'min_samples_split': 5, 'n_estimators': 200}\n",
      "Best CV Score: 1.0\n"
     ]
    }
   ],
   "source": [
    "# ------------------------------\n",
    "# Dicot-Weed model\n",
    "# ------------------------------\n",
    "dicot_weed_mask = (df['category1'] == 'dicot') & (df['category2'] == 'weed')\n",
    "X_dicot_weed = X[dicot_weed_mask]\n",
    "y_dicot_weed = df['species'][dicot_weed_mask]\n",
    "\n",
    "param_grid_dicot_weed = {\n",
    " 'n_estimators': [100, 200, 500],\n",
    "    'max_depth': [None, 10, 20],\n",
    "    'min_samples_split': [2, 5, 10],\n",
    "    'min_samples_leaf': [1, 2, 4],\n",
    "    'bootstrap': [True, False]\n",
    "}\n",
    "\n",
    "rf_dicot_weed = RandomForestClassifier(random_state=42)\n",
    "grid_dicot_weed = GridSearchCV(rf_dicot_weed, param_grid=param_grid_dicot_weed,\n",
    "                               cv=skf, scoring='accuracy')\n",
    "grid_dicot_weed.fit(X_dicot_weed, y_dicot_weed)\n",
    "clf_dicot_weed = grid_dicot_weed.best_estimator_\n",
    "print(\"Dicot-Weed best parameters:\", grid_dicot_weed.best_params_)\n",
    "print(\"Best CV Score:\", grid_search.best_score_)"
   ]
  },
  {
   "cell_type": "code",
   "execution_count": 26,
   "id": "41751e4a-5a8f-4561-b6b3-6e4739f40065",
   "metadata": {
    "execution": {
     "iopub.execute_input": "2025-03-11T14:36:45.038914Z",
     "iopub.status.busy": "2025-03-11T14:36:45.038733Z",
     "iopub.status.idle": "2025-03-11T14:36:45.288548Z",
     "shell.execute_reply": "2025-03-11T14:36:45.287890Z",
     "shell.execute_reply.started": "2025-03-11T14:36:45.038898Z"
    }
   },
   "outputs": [
    {
     "data": {
      "text/html": [
       "<style>#sk-container-id-4 {color: black;}#sk-container-id-4 pre{padding: 0;}#sk-container-id-4 div.sk-toggleable {background-color: white;}#sk-container-id-4 label.sk-toggleable__label {cursor: pointer;display: block;width: 100%;margin-bottom: 0;padding: 0.3em;box-sizing: border-box;text-align: center;}#sk-container-id-4 label.sk-toggleable__label-arrow:before {content: \"▸\";float: left;margin-right: 0.25em;color: #696969;}#sk-container-id-4 label.sk-toggleable__label-arrow:hover:before {color: black;}#sk-container-id-4 div.sk-estimator:hover label.sk-toggleable__label-arrow:before {color: black;}#sk-container-id-4 div.sk-toggleable__content {max-height: 0;max-width: 0;overflow: hidden;text-align: left;background-color: #f0f8ff;}#sk-container-id-4 div.sk-toggleable__content pre {margin: 0.2em;color: black;border-radius: 0.25em;background-color: #f0f8ff;}#sk-container-id-4 input.sk-toggleable__control:checked~div.sk-toggleable__content {max-height: 200px;max-width: 100%;overflow: auto;}#sk-container-id-4 input.sk-toggleable__control:checked~label.sk-toggleable__label-arrow:before {content: \"▾\";}#sk-container-id-4 div.sk-estimator input.sk-toggleable__control:checked~label.sk-toggleable__label {background-color: #d4ebff;}#sk-container-id-4 div.sk-label input.sk-toggleable__control:checked~label.sk-toggleable__label {background-color: #d4ebff;}#sk-container-id-4 input.sk-hidden--visually {border: 0;clip: rect(1px 1px 1px 1px);clip: rect(1px, 1px, 1px, 1px);height: 1px;margin: -1px;overflow: hidden;padding: 0;position: absolute;width: 1px;}#sk-container-id-4 div.sk-estimator {font-family: monospace;background-color: #f0f8ff;border: 1px dotted black;border-radius: 0.25em;box-sizing: border-box;margin-bottom: 0.5em;}#sk-container-id-4 div.sk-estimator:hover {background-color: #d4ebff;}#sk-container-id-4 div.sk-parallel-item::after {content: \"\";width: 100%;border-bottom: 1px solid gray;flex-grow: 1;}#sk-container-id-4 div.sk-label:hover label.sk-toggleable__label {background-color: #d4ebff;}#sk-container-id-4 div.sk-serial::before {content: \"\";position: absolute;border-left: 1px solid gray;box-sizing: border-box;top: 0;bottom: 0;left: 50%;z-index: 0;}#sk-container-id-4 div.sk-serial {display: flex;flex-direction: column;align-items: center;background-color: white;padding-right: 0.2em;padding-left: 0.2em;position: relative;}#sk-container-id-4 div.sk-item {position: relative;z-index: 1;}#sk-container-id-4 div.sk-parallel {display: flex;align-items: stretch;justify-content: center;background-color: white;position: relative;}#sk-container-id-4 div.sk-item::before, #sk-container-id-4 div.sk-parallel-item::before {content: \"\";position: absolute;border-left: 1px solid gray;box-sizing: border-box;top: 0;bottom: 0;left: 50%;z-index: -1;}#sk-container-id-4 div.sk-parallel-item {display: flex;flex-direction: column;z-index: 1;position: relative;background-color: white;}#sk-container-id-4 div.sk-parallel-item:first-child::after {align-self: flex-end;width: 50%;}#sk-container-id-4 div.sk-parallel-item:last-child::after {align-self: flex-start;width: 50%;}#sk-container-id-4 div.sk-parallel-item:only-child::after {width: 0;}#sk-container-id-4 div.sk-dashed-wrapped {border: 1px dashed gray;margin: 0 0.4em 0.5em 0.4em;box-sizing: border-box;padding-bottom: 0.4em;background-color: white;}#sk-container-id-4 div.sk-label label {font-family: monospace;font-weight: bold;display: inline-block;line-height: 1.2em;}#sk-container-id-4 div.sk-label-container {text-align: center;}#sk-container-id-4 div.sk-container {/* jupyter's `normalize.less` sets `[hidden] { display: none; }` but bootstrap.min.css set `[hidden] { display: none !important; }` so we also need the `!important` here to be able to override the default hidden behavior on the sphinx rendered scikit-learn.org. See: https://github.com/scikit-learn/scikit-learn/issues/21755 */display: inline-block !important;position: relative;}#sk-container-id-4 div.sk-text-repr-fallback {display: none;}</style><div id=\"sk-container-id-4\" class=\"sk-top-container\"><div class=\"sk-text-repr-fallback\"><pre>RandomForestClassifier(min_samples_leaf=2, min_samples_split=5,\n",
       "                       n_estimators=200, random_state=42)</pre><b>In a Jupyter environment, please rerun this cell to show the HTML representation or trust the notebook. <br />On GitHub, the HTML representation is unable to render, please try loading this page with nbviewer.org.</b></div><div class=\"sk-container\" hidden><div class=\"sk-item\"><div class=\"sk-estimator sk-toggleable\"><input class=\"sk-toggleable__control sk-hidden--visually\" id=\"sk-estimator-id-4\" type=\"checkbox\" checked><label for=\"sk-estimator-id-4\" class=\"sk-toggleable__label sk-toggleable__label-arrow\">RandomForestClassifier</label><div class=\"sk-toggleable__content\"><pre>RandomForestClassifier(min_samples_leaf=2, min_samples_split=5,\n",
       "                       n_estimators=200, random_state=42)</pre></div></div></div></div></div>"
      ],
      "text/plain": [
       "RandomForestClassifier(min_samples_leaf=2, min_samples_split=5,\n",
       "                       n_estimators=200, random_state=42)"
      ]
     },
     "execution_count": 26,
     "metadata": {},
     "output_type": "execute_result"
    }
   ],
   "source": [
    "clf_dicot_weed = RandomForestClassifier(random_state=42, \n",
    "                                  max_depth=None,\n",
    "                                  min_samples_leaf=2,\n",
    "                                  min_samples_split=5,\n",
    "                                  n_estimators=200, bootstrap=True)\n",
    "clf_dicot_weed.fit(X_dicot_weed, y_dicot_weed)"
   ]
  },
  {
   "cell_type": "code",
   "execution_count": 27,
   "id": "9d36708c-34c0-4d02-96b7-4f1f56dfed73",
   "metadata": {
    "execution": {
     "iopub.execute_input": "2025-03-11T14:36:50.384135Z",
     "iopub.status.busy": "2025-03-11T14:36:50.383901Z",
     "iopub.status.idle": "2025-03-11T14:36:56.021174Z",
     "shell.execute_reply": "2025-03-11T14:36:56.020510Z",
     "shell.execute_reply.started": "2025-03-11T14:36:50.384118Z"
    }
   },
   "outputs": [],
   "source": [
    "final_species_preds = []\n",
    "\n",
    "for idx in X_test_cat1.index:\n",
    "    cat1_pred = clf_cat1.predict(X_test_cat1.loc[[idx]])[0]\n",
    "    if cat1_pred == 'monocot':\n",
    "        cat2_pred = clf_cat2_monocot.predict(X_test_cat1.loc[[idx]])[0]  # use monocot model for cat2\n",
    "        if cat2_pred == 'weed':\n",
    "            sp_pred = clf_mono_weed.predict(X_test_cat1.loc[[idx]])[0]\n",
    "        else:  # crop\n",
    "            sp_pred = clf_mono_crop.predict(X_test_cat1.loc[[idx]])[0]\n",
    "    else:  # dicot\n",
    "        cat2_pred = clf_cat2_dicot.predict(X_test_cat1.loc[[idx]])[0]  # use dicot model for cat2\n",
    "        if cat2_pred == 'weed':\n",
    "            sp_pred = clf_dicot_weed.predict(X_test_cat1.loc[[idx]])[0]\n",
    "        else:  # crop\n",
    "            sp_pred = clf_dicot_crop.predict(X_test_cat1.loc[[idx]])[0]\n",
    "\n",
    "    final_species_preds.append(sp_pred)\n",
    "\n",
    "final_species_preds = np.array(final_species_preds)\n",
    "y_test_species = df.loc[X_test_cat1.index, 'species']"
   ]
  },
  {
   "cell_type": "code",
   "execution_count": 28,
   "id": "b0d473df-bec6-46c1-a98e-1c99687d629f",
   "metadata": {
    "execution": {
     "iopub.execute_input": "2025-03-11T14:36:59.480425Z",
     "iopub.status.busy": "2025-03-11T14:36:59.480175Z",
     "iopub.status.idle": "2025-03-11T14:36:59.498127Z",
     "shell.execute_reply": "2025-03-11T14:36:59.497555Z",
     "shell.execute_reply.started": "2025-03-11T14:36:59.480409Z"
    }
   },
   "outputs": [
    {
     "name": "stdout",
     "output_type": "stream",
     "text": [
      "Final Species-Level Accuracy: 0.9060402684563759\n"
     ]
    },
    {
     "data": {
      "text/html": [
       "<div>\n",
       "<style scoped>\n",
       "    .dataframe tbody tr th:only-of-type {\n",
       "        vertical-align: middle;\n",
       "    }\n",
       "\n",
       "    .dataframe tbody tr th {\n",
       "        vertical-align: top;\n",
       "    }\n",
       "\n",
       "    .dataframe thead th {\n",
       "        text-align: right;\n",
       "    }\n",
       "</style>\n",
       "<table border=\"1\" class=\"dataframe\">\n",
       "  <thead>\n",
       "    <tr style=\"text-align: right;\">\n",
       "      <th></th>\n",
       "      <th>CHEAL</th>\n",
       "      <th>CYPES</th>\n",
       "      <th>ECHCG</th>\n",
       "      <th>GASCI</th>\n",
       "      <th>Maize</th>\n",
       "      <th>Morello</th>\n",
       "      <th>Pignoletto</th>\n",
       "      <th>SORHA</th>\n",
       "    </tr>\n",
       "  </thead>\n",
       "  <tbody>\n",
       "    <tr>\n",
       "      <th>CHEAL</th>\n",
       "      <td>100.000000</td>\n",
       "      <td>0.0</td>\n",
       "      <td>0.00000</td>\n",
       "      <td>0.000000</td>\n",
       "      <td>0.000000</td>\n",
       "      <td>0.000000</td>\n",
       "      <td>0.000000</td>\n",
       "      <td>0.000000</td>\n",
       "    </tr>\n",
       "    <tr>\n",
       "      <th>CYPES</th>\n",
       "      <td>0.000000</td>\n",
       "      <td>100.0</td>\n",
       "      <td>0.00000</td>\n",
       "      <td>0.000000</td>\n",
       "      <td>0.000000</td>\n",
       "      <td>0.000000</td>\n",
       "      <td>0.000000</td>\n",
       "      <td>0.000000</td>\n",
       "    </tr>\n",
       "    <tr>\n",
       "      <th>ECHCG</th>\n",
       "      <td>0.000000</td>\n",
       "      <td>0.0</td>\n",
       "      <td>90.47619</td>\n",
       "      <td>0.000000</td>\n",
       "      <td>4.761905</td>\n",
       "      <td>4.761905</td>\n",
       "      <td>0.000000</td>\n",
       "      <td>0.000000</td>\n",
       "    </tr>\n",
       "    <tr>\n",
       "      <th>GASCI</th>\n",
       "      <td>5.882353</td>\n",
       "      <td>0.0</td>\n",
       "      <td>0.00000</td>\n",
       "      <td>94.117647</td>\n",
       "      <td>0.000000</td>\n",
       "      <td>0.000000</td>\n",
       "      <td>0.000000</td>\n",
       "      <td>0.000000</td>\n",
       "    </tr>\n",
       "    <tr>\n",
       "      <th>Maize</th>\n",
       "      <td>0.000000</td>\n",
       "      <td>0.0</td>\n",
       "      <td>0.00000</td>\n",
       "      <td>0.000000</td>\n",
       "      <td>100.000000</td>\n",
       "      <td>0.000000</td>\n",
       "      <td>0.000000</td>\n",
       "      <td>0.000000</td>\n",
       "    </tr>\n",
       "    <tr>\n",
       "      <th>Morello</th>\n",
       "      <td>0.000000</td>\n",
       "      <td>0.0</td>\n",
       "      <td>0.00000</td>\n",
       "      <td>0.000000</td>\n",
       "      <td>33.333333</td>\n",
       "      <td>55.555556</td>\n",
       "      <td>11.111111</td>\n",
       "      <td>0.000000</td>\n",
       "    </tr>\n",
       "    <tr>\n",
       "      <th>Pignoletto</th>\n",
       "      <td>0.000000</td>\n",
       "      <td>0.0</td>\n",
       "      <td>0.00000</td>\n",
       "      <td>0.000000</td>\n",
       "      <td>35.714286</td>\n",
       "      <td>7.142857</td>\n",
       "      <td>50.000000</td>\n",
       "      <td>7.142857</td>\n",
       "    </tr>\n",
       "    <tr>\n",
       "      <th>SORHA</th>\n",
       "      <td>0.000000</td>\n",
       "      <td>0.0</td>\n",
       "      <td>0.00000</td>\n",
       "      <td>0.000000</td>\n",
       "      <td>0.000000</td>\n",
       "      <td>0.000000</td>\n",
       "      <td>0.000000</td>\n",
       "      <td>100.000000</td>\n",
       "    </tr>\n",
       "  </tbody>\n",
       "</table>\n",
       "</div>"
      ],
      "text/plain": [
       "                 CHEAL  CYPES     ECHCG      GASCI       Maize    Morello  \\\n",
       "CHEAL       100.000000    0.0   0.00000   0.000000    0.000000   0.000000   \n",
       "CYPES         0.000000  100.0   0.00000   0.000000    0.000000   0.000000   \n",
       "ECHCG         0.000000    0.0  90.47619   0.000000    4.761905   4.761905   \n",
       "GASCI         5.882353    0.0   0.00000  94.117647    0.000000   0.000000   \n",
       "Maize         0.000000    0.0   0.00000   0.000000  100.000000   0.000000   \n",
       "Morello       0.000000    0.0   0.00000   0.000000   33.333333  55.555556   \n",
       "Pignoletto    0.000000    0.0   0.00000   0.000000   35.714286   7.142857   \n",
       "SORHA         0.000000    0.0   0.00000   0.000000    0.000000   0.000000   \n",
       "\n",
       "            Pignoletto       SORHA  \n",
       "CHEAL         0.000000    0.000000  \n",
       "CYPES         0.000000    0.000000  \n",
       "ECHCG         0.000000    0.000000  \n",
       "GASCI         0.000000    0.000000  \n",
       "Maize         0.000000    0.000000  \n",
       "Morello      11.111111    0.000000  \n",
       "Pignoletto   50.000000    7.142857  \n",
       "SORHA         0.000000  100.000000  "
      ]
     },
     "execution_count": 28,
     "metadata": {},
     "output_type": "execute_result"
    }
   ],
   "source": [
    "# Evaluate accuracy of final species predictions:\n",
    "final_accuracy = accuracy_score(y_test_species, final_species_preds)\n",
    "print(\"Final Species-Level Accuracy:\", final_accuracy)\n",
    "\n",
    "from sklearn.metrics import confusion_matrix, classification_report\n",
    "cm = confusion_matrix(y_test_species,final_species_preds)\n",
    "cm_percentage = cm.astype('float') / cm.sum(axis=1)[:, np.newaxis] * 100\n",
    "\n",
    "class_labels = np.unique(y_test_species)  # Adjust if needed\n",
    "cm_df = pd.DataFrame(cm_percentage, index=class_labels, columns=class_labels)\n",
    "cm_df\n"
   ]
  }
 ],
 "metadata": {
  "kernelspec": {
   "display_name": "Python 3 (ipykernel)",
   "language": "python",
   "name": "python3"
  },
  "language_info": {
   "codemirror_mode": {
    "name": "ipython",
    "version": 3
   },
   "file_extension": ".py",
   "mimetype": "text/x-python",
   "name": "python",
   "nbconvert_exporter": "python",
   "pygments_lexer": "ipython3",
   "version": "3.12.7"
  }
 },
 "nbformat": 4,
 "nbformat_minor": 5
}
